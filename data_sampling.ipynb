{
 "cells": [
  {
   "cell_type": "markdown",
   "id": "e060d2e6-48d9-4048-a9b3-8a96e3ddc8ef",
   "metadata": {},
   "source": [
    "# Лабораторная работа 2 (9.8). Сэмплинг"
   ]
  },
  {
   "cell_type": "markdown",
   "id": "15bde01b-c541-4685-bdee-c7ed13705256",
   "metadata": {},
   "source": [
    "## Загрузка модулей"
   ]
  },
  {
   "cell_type": "code",
   "execution_count": 38,
   "id": "f9a1178d-c0d1-4618-927b-c5e837a2983a",
   "metadata": {
    "tags": []
   },
   "outputs": [],
   "source": [
    "import pandas as pd\n",
    "import numpy as np"
   ]
  },
  {
   "cell_type": "code",
   "execution_count": 39,
   "id": "9a6e303b-c69d-41a3-827b-552ccd55a6a6",
   "metadata": {
    "tags": []
   },
   "outputs": [],
   "source": [
    "df = pd.read_csv('../datasets/gender_classification.csv')\n",
    "df = df.sample(1233)"
   ]
  },
  {
   "cell_type": "code",
   "execution_count": 40,
   "id": "362384a7-0869-4f08-a521-5097787417b5",
   "metadata": {
    "tags": []
   },
   "outputs": [
    {
     "data": {
      "text/html": [
       "<div>\n",
       "<style scoped>\n",
       "    .dataframe tbody tr th:only-of-type {\n",
       "        vertical-align: middle;\n",
       "    }\n",
       "\n",
       "    .dataframe tbody tr th {\n",
       "        vertical-align: top;\n",
       "    }\n",
       "\n",
       "    .dataframe thead th {\n",
       "        text-align: right;\n",
       "    }\n",
       "</style>\n",
       "<table border=\"1\" class=\"dataframe\">\n",
       "  <thead>\n",
       "    <tr style=\"text-align: right;\">\n",
       "      <th></th>\n",
       "      <th>long_hair</th>\n",
       "      <th>forehead_width_cm</th>\n",
       "      <th>forehead_height_cm</th>\n",
       "      <th>nose_wide</th>\n",
       "      <th>nose_long</th>\n",
       "      <th>lips_thin</th>\n",
       "      <th>distance_nose_to_lip_long</th>\n",
       "      <th>gender</th>\n",
       "    </tr>\n",
       "  </thead>\n",
       "  <tbody>\n",
       "    <tr>\n",
       "      <th>2431</th>\n",
       "      <td>1</td>\n",
       "      <td>14.2</td>\n",
       "      <td>5.5</td>\n",
       "      <td>1</td>\n",
       "      <td>1</td>\n",
       "      <td>0</td>\n",
       "      <td>1</td>\n",
       "      <td>1</td>\n",
       "    </tr>\n",
       "    <tr>\n",
       "      <th>456</th>\n",
       "      <td>0</td>\n",
       "      <td>12.8</td>\n",
       "      <td>6.3</td>\n",
       "      <td>1</td>\n",
       "      <td>1</td>\n",
       "      <td>1</td>\n",
       "      <td>1</td>\n",
       "      <td>1</td>\n",
       "    </tr>\n",
       "    <tr>\n",
       "      <th>3451</th>\n",
       "      <td>0</td>\n",
       "      <td>12.3</td>\n",
       "      <td>6.1</td>\n",
       "      <td>0</td>\n",
       "      <td>0</td>\n",
       "      <td>0</td>\n",
       "      <td>0</td>\n",
       "      <td>0</td>\n",
       "    </tr>\n",
       "    <tr>\n",
       "      <th>3360</th>\n",
       "      <td>1</td>\n",
       "      <td>12.9</td>\n",
       "      <td>5.3</td>\n",
       "      <td>1</td>\n",
       "      <td>1</td>\n",
       "      <td>1</td>\n",
       "      <td>1</td>\n",
       "      <td>1</td>\n",
       "    </tr>\n",
       "    <tr>\n",
       "      <th>2782</th>\n",
       "      <td>1</td>\n",
       "      <td>13.0</td>\n",
       "      <td>5.6</td>\n",
       "      <td>1</td>\n",
       "      <td>1</td>\n",
       "      <td>1</td>\n",
       "      <td>1</td>\n",
       "      <td>1</td>\n",
       "    </tr>\n",
       "    <tr>\n",
       "      <th>...</th>\n",
       "      <td>...</td>\n",
       "      <td>...</td>\n",
       "      <td>...</td>\n",
       "      <td>...</td>\n",
       "      <td>...</td>\n",
       "      <td>...</td>\n",
       "      <td>...</td>\n",
       "      <td>...</td>\n",
       "    </tr>\n",
       "    <tr>\n",
       "      <th>4995</th>\n",
       "      <td>1</td>\n",
       "      <td>12.3</td>\n",
       "      <td>6.9</td>\n",
       "      <td>0</td>\n",
       "      <td>1</td>\n",
       "      <td>1</td>\n",
       "      <td>1</td>\n",
       "      <td>1</td>\n",
       "    </tr>\n",
       "    <tr>\n",
       "      <th>2163</th>\n",
       "      <td>1</td>\n",
       "      <td>11.9</td>\n",
       "      <td>5.1</td>\n",
       "      <td>1</td>\n",
       "      <td>0</td>\n",
       "      <td>0</td>\n",
       "      <td>0</td>\n",
       "      <td>0</td>\n",
       "    </tr>\n",
       "    <tr>\n",
       "      <th>4466</th>\n",
       "      <td>1</td>\n",
       "      <td>11.8</td>\n",
       "      <td>6.9</td>\n",
       "      <td>1</td>\n",
       "      <td>1</td>\n",
       "      <td>1</td>\n",
       "      <td>1</td>\n",
       "      <td>1</td>\n",
       "    </tr>\n",
       "    <tr>\n",
       "      <th>4642</th>\n",
       "      <td>1</td>\n",
       "      <td>13.9</td>\n",
       "      <td>6.0</td>\n",
       "      <td>0</td>\n",
       "      <td>0</td>\n",
       "      <td>0</td>\n",
       "      <td>0</td>\n",
       "      <td>0</td>\n",
       "    </tr>\n",
       "    <tr>\n",
       "      <th>4092</th>\n",
       "      <td>1</td>\n",
       "      <td>13.4</td>\n",
       "      <td>5.8</td>\n",
       "      <td>0</td>\n",
       "      <td>0</td>\n",
       "      <td>1</td>\n",
       "      <td>0</td>\n",
       "      <td>0</td>\n",
       "    </tr>\n",
       "  </tbody>\n",
       "</table>\n",
       "<p>1233 rows × 8 columns</p>\n",
       "</div>"
      ],
      "text/plain": [
       "      long_hair  forehead_width_cm  forehead_height_cm  nose_wide  nose_long  \\\n",
       "2431          1               14.2                 5.5          1          1   \n",
       "456           0               12.8                 6.3          1          1   \n",
       "3451          0               12.3                 6.1          0          0   \n",
       "3360          1               12.9                 5.3          1          1   \n",
       "2782          1               13.0                 5.6          1          1   \n",
       "...         ...                ...                 ...        ...        ...   \n",
       "4995          1               12.3                 6.9          0          1   \n",
       "2163          1               11.9                 5.1          1          0   \n",
       "4466          1               11.8                 6.9          1          1   \n",
       "4642          1               13.9                 6.0          0          0   \n",
       "4092          1               13.4                 5.8          0          0   \n",
       "\n",
       "      lips_thin  distance_nose_to_lip_long  gender  \n",
       "2431          0                          1       1  \n",
       "456           1                          1       1  \n",
       "3451          0                          0       0  \n",
       "3360          1                          1       1  \n",
       "2782          1                          1       1  \n",
       "...         ...                        ...     ...  \n",
       "4995          1                          1       1  \n",
       "2163          0                          0       0  \n",
       "4466          1                          1       1  \n",
       "4642          0                          0       0  \n",
       "4092          1                          0       0  \n",
       "\n",
       "[1233 rows x 8 columns]"
      ]
     },
     "execution_count": 40,
     "metadata": {},
     "output_type": "execute_result"
    }
   ],
   "source": [
    "df['gender'] = np.where(df['gender'] == \"Male\", 1, 0)\n",
    "df"
   ]
  },
  {
   "cell_type": "markdown",
   "id": "59d2340b-3b1c-4fca-98de-0ac3762afd50",
   "metadata": {},
   "source": [
    "## Простой случайный сэмплинг"
   ]
  },
  {
   "cell_type": "code",
   "execution_count": 41,
   "id": "a2fe384e-b010-4048-8d4c-c7a1b25a2d05",
   "metadata": {
    "tags": []
   },
   "outputs": [
    {
     "data": {
      "text/plain": [
       "(      forehead_width_cm  nose_wide\n",
       " 2431               14.2          1\n",
       " 456                12.8          1\n",
       " 3451               12.3          0\n",
       " 3360               12.9          1\n",
       " 2782               13.0          1\n",
       " ...                 ...        ...\n",
       " 4995               12.3          0\n",
       " 2163               11.9          1\n",
       " 4466               11.8          1\n",
       " 4642               13.9          0\n",
       " 4092               13.4          0\n",
       " \n",
       " [1233 rows x 2 columns],\n",
       " 2431    1\n",
       " 456     1\n",
       " 3451    0\n",
       " 3360    1\n",
       " 2782    1\n",
       "        ..\n",
       " 4995    1\n",
       " 2163    0\n",
       " 4466    1\n",
       " 4642    0\n",
       " 4092    0\n",
       " Name: gender, Length: 1233, dtype: int32)"
      ]
     },
     "execution_count": 41,
     "metadata": {},
     "output_type": "execute_result"
    }
   ],
   "source": [
    "X = df[['forehead_width_cm', 'nose_wide']]\n",
    "y = df['gender']\n",
    "X, y"
   ]
  },
  {
   "cell_type": "code",
   "execution_count": 42,
   "id": "05c4d49c-7ee8-486e-a664-908a5d5cd173",
   "metadata": {
    "tags": []
   },
   "outputs": [
    {
     "data": {
      "text/html": [
       "<div>\n",
       "<style scoped>\n",
       "    .dataframe tbody tr th:only-of-type {\n",
       "        vertical-align: middle;\n",
       "    }\n",
       "\n",
       "    .dataframe tbody tr th {\n",
       "        vertical-align: top;\n",
       "    }\n",
       "\n",
       "    .dataframe thead th {\n",
       "        text-align: right;\n",
       "    }\n",
       "</style>\n",
       "<table border=\"1\" class=\"dataframe\">\n",
       "  <thead>\n",
       "    <tr style=\"text-align: right;\">\n",
       "      <th></th>\n",
       "      <th>long_hair</th>\n",
       "      <th>forehead_width_cm</th>\n",
       "      <th>forehead_height_cm</th>\n",
       "      <th>nose_wide</th>\n",
       "      <th>nose_long</th>\n",
       "      <th>lips_thin</th>\n",
       "      <th>distance_nose_to_lip_long</th>\n",
       "      <th>gender</th>\n",
       "    </tr>\n",
       "  </thead>\n",
       "  <tbody>\n",
       "    <tr>\n",
       "      <th>3806</th>\n",
       "      <td>1</td>\n",
       "      <td>11.5</td>\n",
       "      <td>7.0</td>\n",
       "      <td>1</td>\n",
       "      <td>1</td>\n",
       "      <td>1</td>\n",
       "      <td>1</td>\n",
       "      <td>1</td>\n",
       "    </tr>\n",
       "    <tr>\n",
       "      <th>896</th>\n",
       "      <td>1</td>\n",
       "      <td>14.6</td>\n",
       "      <td>5.3</td>\n",
       "      <td>0</td>\n",
       "      <td>0</td>\n",
       "      <td>1</td>\n",
       "      <td>1</td>\n",
       "      <td>1</td>\n",
       "    </tr>\n",
       "    <tr>\n",
       "      <th>1373</th>\n",
       "      <td>1</td>\n",
       "      <td>12.8</td>\n",
       "      <td>6.9</td>\n",
       "      <td>1</td>\n",
       "      <td>1</td>\n",
       "      <td>1</td>\n",
       "      <td>1</td>\n",
       "      <td>1</td>\n",
       "    </tr>\n",
       "    <tr>\n",
       "      <th>1131</th>\n",
       "      <td>1</td>\n",
       "      <td>13.6</td>\n",
       "      <td>5.1</td>\n",
       "      <td>1</td>\n",
       "      <td>0</td>\n",
       "      <td>1</td>\n",
       "      <td>1</td>\n",
       "      <td>1</td>\n",
       "    </tr>\n",
       "    <tr>\n",
       "      <th>3492</th>\n",
       "      <td>1</td>\n",
       "      <td>14.0</td>\n",
       "      <td>5.5</td>\n",
       "      <td>1</td>\n",
       "      <td>0</td>\n",
       "      <td>0</td>\n",
       "      <td>1</td>\n",
       "      <td>0</td>\n",
       "    </tr>\n",
       "    <tr>\n",
       "      <th>...</th>\n",
       "      <td>...</td>\n",
       "      <td>...</td>\n",
       "      <td>...</td>\n",
       "      <td>...</td>\n",
       "      <td>...</td>\n",
       "      <td>...</td>\n",
       "      <td>...</td>\n",
       "      <td>...</td>\n",
       "    </tr>\n",
       "    <tr>\n",
       "      <th>693</th>\n",
       "      <td>1</td>\n",
       "      <td>12.4</td>\n",
       "      <td>6.6</td>\n",
       "      <td>1</td>\n",
       "      <td>0</td>\n",
       "      <td>1</td>\n",
       "      <td>1</td>\n",
       "      <td>1</td>\n",
       "    </tr>\n",
       "    <tr>\n",
       "      <th>2195</th>\n",
       "      <td>1</td>\n",
       "      <td>12.3</td>\n",
       "      <td>6.0</td>\n",
       "      <td>0</td>\n",
       "      <td>1</td>\n",
       "      <td>0</td>\n",
       "      <td>0</td>\n",
       "      <td>0</td>\n",
       "    </tr>\n",
       "    <tr>\n",
       "      <th>1945</th>\n",
       "      <td>1</td>\n",
       "      <td>12.8</td>\n",
       "      <td>6.4</td>\n",
       "      <td>0</td>\n",
       "      <td>0</td>\n",
       "      <td>0</td>\n",
       "      <td>0</td>\n",
       "      <td>0</td>\n",
       "    </tr>\n",
       "    <tr>\n",
       "      <th>3323</th>\n",
       "      <td>1</td>\n",
       "      <td>13.1</td>\n",
       "      <td>6.0</td>\n",
       "      <td>0</td>\n",
       "      <td>0</td>\n",
       "      <td>1</td>\n",
       "      <td>0</td>\n",
       "      <td>0</td>\n",
       "    </tr>\n",
       "    <tr>\n",
       "      <th>4031</th>\n",
       "      <td>0</td>\n",
       "      <td>13.7</td>\n",
       "      <td>5.3</td>\n",
       "      <td>1</td>\n",
       "      <td>1</td>\n",
       "      <td>1</td>\n",
       "      <td>1</td>\n",
       "      <td>1</td>\n",
       "    </tr>\n",
       "  </tbody>\n",
       "</table>\n",
       "<p>100 rows × 8 columns</p>\n",
       "</div>"
      ],
      "text/plain": [
       "      long_hair  forehead_width_cm  forehead_height_cm  nose_wide  nose_long  \\\n",
       "3806          1               11.5                 7.0          1          1   \n",
       "896           1               14.6                 5.3          0          0   \n",
       "1373          1               12.8                 6.9          1          1   \n",
       "1131          1               13.6                 5.1          1          0   \n",
       "3492          1               14.0                 5.5          1          0   \n",
       "...         ...                ...                 ...        ...        ...   \n",
       "693           1               12.4                 6.6          1          0   \n",
       "2195          1               12.3                 6.0          0          1   \n",
       "1945          1               12.8                 6.4          0          0   \n",
       "3323          1               13.1                 6.0          0          0   \n",
       "4031          0               13.7                 5.3          1          1   \n",
       "\n",
       "      lips_thin  distance_nose_to_lip_long  gender  \n",
       "3806          1                          1       1  \n",
       "896           1                          1       1  \n",
       "1373          1                          1       1  \n",
       "1131          1                          1       1  \n",
       "3492          0                          1       0  \n",
       "...         ...                        ...     ...  \n",
       "693           1                          1       1  \n",
       "2195          0                          0       0  \n",
       "1945          0                          0       0  \n",
       "3323          1                          0       0  \n",
       "4031          1                          1       1  \n",
       "\n",
       "[100 rows x 8 columns]"
      ]
     },
     "execution_count": 42,
     "metadata": {},
     "output_type": "execute_result"
    }
   ],
   "source": [
    "df.sample(100)"
   ]
  },
  {
   "cell_type": "markdown",
   "id": "2db15580-b222-4ed9-875f-884b906c1741",
   "metadata": {},
   "source": [
    "## Стратифицированный сэмплинг"
   ]
  },
  {
   "cell_type": "code",
   "execution_count": 43,
   "id": "00dc682d-337a-41f8-832f-869bf329868d",
   "metadata": {
    "tags": []
   },
   "outputs": [
    {
     "data": {
      "text/html": [
       "<div>\n",
       "<style scoped>\n",
       "    .dataframe tbody tr th:only-of-type {\n",
       "        vertical-align: middle;\n",
       "    }\n",
       "\n",
       "    .dataframe tbody tr th {\n",
       "        vertical-align: top;\n",
       "    }\n",
       "\n",
       "    .dataframe thead th {\n",
       "        text-align: right;\n",
       "    }\n",
       "</style>\n",
       "<table border=\"1\" class=\"dataframe\">\n",
       "  <thead>\n",
       "    <tr style=\"text-align: right;\">\n",
       "      <th></th>\n",
       "      <th>forehead_width_cm</th>\n",
       "      <th>nose_wide</th>\n",
       "    </tr>\n",
       "  </thead>\n",
       "  <tbody>\n",
       "    <tr>\n",
       "      <th>206</th>\n",
       "      <td>14.3</td>\n",
       "      <td>1</td>\n",
       "    </tr>\n",
       "    <tr>\n",
       "      <th>4648</th>\n",
       "      <td>14.3</td>\n",
       "      <td>0</td>\n",
       "    </tr>\n",
       "    <tr>\n",
       "      <th>3783</th>\n",
       "      <td>12.6</td>\n",
       "      <td>1</td>\n",
       "    </tr>\n",
       "    <tr>\n",
       "      <th>2902</th>\n",
       "      <td>12.0</td>\n",
       "      <td>0</td>\n",
       "    </tr>\n",
       "    <tr>\n",
       "      <th>3723</th>\n",
       "      <td>12.9</td>\n",
       "      <td>0</td>\n",
       "    </tr>\n",
       "    <tr>\n",
       "      <th>...</th>\n",
       "      <td>...</td>\n",
       "      <td>...</td>\n",
       "    </tr>\n",
       "    <tr>\n",
       "      <th>2498</th>\n",
       "      <td>13.6</td>\n",
       "      <td>0</td>\n",
       "    </tr>\n",
       "    <tr>\n",
       "      <th>1849</th>\n",
       "      <td>15.0</td>\n",
       "      <td>1</td>\n",
       "    </tr>\n",
       "    <tr>\n",
       "      <th>3145</th>\n",
       "      <td>13.6</td>\n",
       "      <td>0</td>\n",
       "    </tr>\n",
       "    <tr>\n",
       "      <th>2699</th>\n",
       "      <td>13.9</td>\n",
       "      <td>1</td>\n",
       "    </tr>\n",
       "    <tr>\n",
       "      <th>3823</th>\n",
       "      <td>12.9</td>\n",
       "      <td>1</td>\n",
       "    </tr>\n",
       "  </tbody>\n",
       "</table>\n",
       "<p>924 rows × 2 columns</p>\n",
       "</div>"
      ],
      "text/plain": [
       "      forehead_width_cm  nose_wide\n",
       "206                14.3          1\n",
       "4648               14.3          0\n",
       "3783               12.6          1\n",
       "2902               12.0          0\n",
       "3723               12.9          0\n",
       "...                 ...        ...\n",
       "2498               13.6          0\n",
       "1849               15.0          1\n",
       "3145               13.6          0\n",
       "2699               13.9          1\n",
       "3823               12.9          1\n",
       "\n",
       "[924 rows x 2 columns]"
      ]
     },
     "execution_count": 43,
     "metadata": {},
     "output_type": "execute_result"
    }
   ],
   "source": [
    "from sklearn.model_selection import train_test_split\n",
    "X_train, X_test, y_train, y_test = train_test_split(X, y, stratify=y, test_size=0.25)\n",
    "X_train"
   ]
  },
  {
   "cell_type": "markdown",
   "id": "e26ef630-b586-427f-97ee-2f297ba3155e",
   "metadata": {},
   "source": [
    "## Андерсэмплинг"
   ]
  },
  {
   "cell_type": "code",
   "execution_count": 44,
   "id": "63af8daf-2a4c-4d4f-b92e-71674d296b18",
   "metadata": {
    "tags": []
   },
   "outputs": [
    {
     "name": "stdout",
     "output_type": "stream",
     "text": [
      "Class 0: 590\n",
      "Class 1: 643\n",
      "Пропорция: 0.92 : 1\n"
     ]
    },
    {
     "data": {
      "image/png": "[encoded data removed]",
      "text/plain": [
       "<Figure size 640x480 with 1 Axes>"
      ]
     },
     "metadata": {},
     "output_type": "display_data"
    }
   ],
   "source": [
    "import seaborn as sns\n",
    "import matplotlib.pyplot as plt\n",
    "\n",
    "# Проверка баланса выходной переменной\n",
    "target_count = df['gender'].value_counts()\n",
    "\n",
    "print('Class 0:', target_count[0])\n",
    "print('Class 1:', target_count[1])\n",
    "print('Пропорция:', round(target_count[0] / target_count[1], 2), ': 1')\n",
    "\n",
    "sns.countplot(x='gender', data=df, palette=\"OrRd\")\n",
    "plt.box(True)\n",
    "plt.xlabel('Gender 0/1',fontsize=11)\n",
    "plt.ylabel('Количество наблюдений', fontsize=11)\n",
    "plt.show()"
   ]
  },
  {
   "cell_type": "code",
   "execution_count": 47,
   "id": "ef408e14-7887-4940-85e1-83ab26f39f48",
   "metadata": {
    "tags": []
   },
   "outputs": [
    {
     "name": "stdout",
     "output_type": "stream",
     "text": [
      "Class 0: 590\n",
      "Class 1: 590\n",
      "Пропорция: 1.0 : 1\n"
     ]
    },
    {
     "data": {
      "image/png": "[encoded data removed]",
      "text/plain": [
       "<Figure size 640x480 with 1 Axes>"
      ]
     },
     "metadata": {},
     "output_type": "display_data"
    }
   ],
   "source": [
    "shuffled_df = df.sample(frac=1,random_state=4)\n",
    "CHD_df = shuffled_df.loc[shuffled_df['gender'] == 1].sample(n=590,random_state=1)\n",
    "non_CHD_df = shuffled_df.loc[shuffled_df['gender'] == 0]\n",
    "normalized_df = pd.concat([CHD_df, non_CHD_df])\n",
    "\n",
    "target_count = normalized_df['gender'].value_counts()\n",
    "\n",
    "print('Class 0:', target_count[0])\n",
    "print('Class 1:', target_count[1])\n",
    "print('Пропорция:', round(target_count[0] / target_count[1], 2), ': 1')\n",
    "\n",
    "sns.countplot(x = 'gender', data = normalized_df, palette=\"OrRd\")\n",
    "plt.box(True)\n",
    "plt.xlabel('Gender 0/1',fontsize=11)\n",
    "plt.ylabel('Количество наблюдений',fontsize=11)\n",
    "plt.show()"
   ]
  },
  {
   "cell_type": "code",
   "execution_count": 50,
   "id": "87cfdb96-b789-4b1b-aab8-bbbe8070050a",
   "metadata": {
    "tags": []
   },
   "outputs": [
    {
     "name": "stdout",
     "output_type": "stream",
     "text": [
      "(1233, 2)\n",
      "(1233, 2)\n",
      "(1233, 3)\n",
      "1    643\n",
      "0    590\n",
      "Name: gender, dtype: int64\n"
     ]
    },
    {
     "data": {
      "image/png": "[encoded data removed]",
      "text/plain": [
       "<Figure size 640x480 with 1 Axes>"
      ]
     },
     "metadata": {},
     "output_type": "display_data"
    }
   ],
   "source": [
    "from imblearn.under_sampling import TomekLinks\n",
    "\n",
    "tl = TomekLinks(sampling_strategy='majority')\n",
    "X_res, y_res = tl.fit_resample(X, y)\n",
    "print(X_res.shape)\n",
    "print(X.shape)\n",
    "df_new=pd.concat([X_res, y_res], axis=1)\n",
    "print(df_new.shape)\n",
    "print(df_new['gender'].value_counts())\n",
    "sns.countplot(x = 'gender', data = df_new, palette=\"OrRd\")\n",
    "plt.box(True)\n",
    "plt.xlabel('Gender 0/1',fontsize=11)\n",
    "plt.ylabel('Количество наблюдений',fontsize=11)\n",
    "plt.show()"
   ]
  },
  {
   "cell_type": "markdown",
   "id": "22b19170-7558-449f-baa5-8277074836db",
   "metadata": {},
   "source": [
    "## Оверсэмплинг"
   ]
  },
  {
   "cell_type": "code",
   "execution_count": 51,
   "id": "56f55426-50f4-4196-8957-cc4897859c1b",
   "metadata": {
    "tags": []
   },
   "outputs": [
    {
     "name": "stdout",
     "output_type": "stream",
     "text": [
      "(1286, 2)\n",
      "(1233, 2)\n",
      "1    643\n",
      "0    643\n",
      "Name: gender, dtype: int64\n"
     ]
    },
    {
     "data": {
      "image/png": "[encoded data removed]",
      "text/plain": [
       "<Figure size 640x480 with 1 Axes>"
      ]
     },
     "metadata": {},
     "output_type": "display_data"
    }
   ],
   "source": [
    "from imblearn.over_sampling import SMOTE\n",
    "\n",
    "smote = SMOTE(sampling_strategy='minority')\n",
    "X_sm, y_sm = smote.fit_resample(X, y)\n",
    "print(X_sm.shape)\n",
    "print(X.shape)\n",
    "print(y_sm.value_counts())\n",
    "df_new_sm=pd.concat([X_sm, y_sm], axis=1)\n",
    "df_new_sm.shape\n",
    "\n",
    "sns.countplot(x = 'gender', data = df_new_sm, palette=\"OrRd\")\n",
    "plt.box(True)\n",
    "plt.xlabel('Gender 0/1',fontsize=11)\n",
    "plt.ylabel('Количество наблюдений',fontsize=11)\n",
    "plt.show()"
   ]
  },
  {
   "cell_type": "code",
   "execution_count": 52,
   "id": "19095d91-18ef-4839-85f8-47d76077ff28",
   "metadata": {
    "tags": []
   },
   "outputs": [
    {
     "data": {
      "image/png": "[encoded data removed]",
      "text/plain": [
       "<Figure size 640x480 with 1 Axes>"
      ]
     },
     "metadata": {},
     "output_type": "display_data"
    }
   ],
   "source": [
    "from imblearn.under_sampling import RandomUnderSampler\n",
    "\n",
    "sampling_strategy = 0.9999\n",
    "rus = RandomUnderSampler(sampling_strategy=sampling_strategy)\n",
    "X_res, y_res = rus.fit_resample(X, y)\n",
    "autopct = \"%.2f\"\n",
    "ax = y_res.value_counts().plot.pie(autopct=autopct)\n",
    "_ = ax.set_title(\"Under-sampling\")"
   ]
  },
  {
   "cell_type": "code",
   "execution_count": 53,
   "id": "b8d1b059-b1fb-4c86-acd4-5993cf469c80",
   "metadata": {
    "tags": []
   },
   "outputs": [
    {
     "data": {
      "image/png": "[encoded data removed]",
      "text/plain": [
       "<Figure size 640x480 with 1 Axes>"
      ]
     },
     "metadata": {},
     "output_type": "display_data"
    }
   ],
   "source": [
    "from imblearn.over_sampling import RandomOverSampler\n",
    "\n",
    "ros = RandomOverSampler(sampling_strategy=sampling_strategy)\n",
    "X_s, y_s = ros.fit_resample(X, y)\n",
    "ax = y_s.value_counts().plot.pie(autopct=autopct)\n",
    "_ = ax.set_title(\"Over-sampling\")"
   ]
  },
  {
   "cell_type": "code",
   "execution_count": 54,
   "id": "e4a2b164-c39a-475b-8e67-322aa5f30ef5",
   "metadata": {
    "tags": []
   },
   "outputs": [
    {
     "data": {
      "image/png": "[encoded data removed]",
      "text/plain": [
       "<Figure size 1000x500 with 2 Axes>"
      ]
     },
     "metadata": {},
     "output_type": "display_data"
    }
   ],
   "source": [
    "sampling_strategy = \"not minority\"\n",
    "\n",
    "fig, axs = plt.subplots(ncols=2, figsize=(10, 5))\n",
    "rus = RandomUnderSampler(sampling_strategy=sampling_strategy)\n",
    "X_res, y_res = rus.fit_resample(X, y)\n",
    "y_res.value_counts().plot.pie(autopct=autopct, ax=axs[0])\n",
    "axs[0].set_title(\"Under-sampling\")\n",
    "\n",
    "sampling_strategy = \"not majority\"\n",
    "ros = RandomOverSampler(sampling_strategy=sampling_strategy)\n",
    "X_s, y_s = ros.fit_resample(X, y)\n",
    "y_s.value_counts().plot.pie(autopct=autopct, ax=axs[1])\n",
    "_ = axs[1].set_title(\"Over-sampling\")"
   ]
  },
  {
   "cell_type": "code",
   "execution_count": null,
   "id": "f6b47561",
   "metadata": {},
   "outputs": [],
   "source": []
  }
 ],
 "metadata": {
  "kernelspec": {
   "display_name": "Python 3 (ipykernel)",
   "language": "python",
   "name": "python3"
  },
  "language_info": {
   "codemirror_mode": {
    "name": "ipython",
    "version": 3
   },
   "file_extension": ".py",
   "mimetype": "text/x-python",
   "name": "python",
   "nbconvert_exporter": "python",
   "pygments_lexer": "ipython3",
   "version": "3.11.0"
  }
 },
 "nbformat": 4,
 "nbformat_minor": 5
}
