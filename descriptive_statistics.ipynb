{
 "cells": [
  {
   "cell_type": "markdown",
   "id": "a424ba7f-09b8-469a-ab9f-8908c9cd52f1",
   "metadata": {},
   "source": [
    "### Описательная статистика"
   ]
  },
  {
   "cell_type": "code",
   "execution_count": 1,
   "id": "23abd906-237c-4cab-b912-e903dc54f882",
   "metadata": {
    "tags": []
   },
   "outputs": [],
   "source": [
    "import pandas as pd\n",
    "import statistics as st\n",
    "import numpy as np\n",
    "import matplotlib.pyplot as plt\n",
    "from scipy.stats import pearsonr\n",
    "import scipy.stats as sts"
   ]
  },
  {
   "cell_type": "code",
   "execution_count": 2,
   "id": "489ffb7f-69fa-4d69-bc0a-a52355269e19",
   "metadata": {
    "tags": []
   },
   "outputs": [
    {
     "data": {
      "text/html": [
       "<div>\n",
       "<style scoped>\n",
       "    .dataframe tbody tr th:only-of-type {\n",
       "        vertical-align: middle;\n",
       "    }\n",
       "\n",
       "    .dataframe tbody tr th {\n",
       "        vertical-align: top;\n",
       "    }\n",
       "\n",
       "    .dataframe thead th {\n",
       "        text-align: right;\n",
       "    }\n",
       "</style>\n",
       "<table border=\"1\" class=\"dataframe\">\n",
       "  <thead>\n",
       "    <tr style=\"text-align: right;\">\n",
       "      <th></th>\n",
       "      <th>long_hair</th>\n",
       "      <th>forehead_width_cm</th>\n",
       "      <th>forehead_height_cm</th>\n",
       "      <th>nose_wide</th>\n",
       "      <th>nose_long</th>\n",
       "      <th>lips_thin</th>\n",
       "      <th>distance_nose_to_lip_long</th>\n",
       "      <th>gender</th>\n",
       "    </tr>\n",
       "  </thead>\n",
       "  <tbody>\n",
       "    <tr>\n",
       "      <th>0</th>\n",
       "      <td>1</td>\n",
       "      <td>11.8</td>\n",
       "      <td>6.1</td>\n",
       "      <td>1</td>\n",
       "      <td>0</td>\n",
       "      <td>1</td>\n",
       "      <td>1</td>\n",
       "      <td>Male</td>\n",
       "    </tr>\n",
       "    <tr>\n",
       "      <th>1</th>\n",
       "      <td>0</td>\n",
       "      <td>14.0</td>\n",
       "      <td>5.4</td>\n",
       "      <td>0</td>\n",
       "      <td>0</td>\n",
       "      <td>1</td>\n",
       "      <td>0</td>\n",
       "      <td>Female</td>\n",
       "    </tr>\n",
       "    <tr>\n",
       "      <th>2</th>\n",
       "      <td>0</td>\n",
       "      <td>11.8</td>\n",
       "      <td>6.3</td>\n",
       "      <td>1</td>\n",
       "      <td>1</td>\n",
       "      <td>1</td>\n",
       "      <td>1</td>\n",
       "      <td>Male</td>\n",
       "    </tr>\n",
       "    <tr>\n",
       "      <th>3</th>\n",
       "      <td>0</td>\n",
       "      <td>14.4</td>\n",
       "      <td>6.1</td>\n",
       "      <td>0</td>\n",
       "      <td>1</td>\n",
       "      <td>1</td>\n",
       "      <td>1</td>\n",
       "      <td>Male</td>\n",
       "    </tr>\n",
       "    <tr>\n",
       "      <th>4</th>\n",
       "      <td>1</td>\n",
       "      <td>13.5</td>\n",
       "      <td>5.9</td>\n",
       "      <td>0</td>\n",
       "      <td>0</td>\n",
       "      <td>0</td>\n",
       "      <td>0</td>\n",
       "      <td>Female</td>\n",
       "    </tr>\n",
       "    <tr>\n",
       "      <th>5</th>\n",
       "      <td>1</td>\n",
       "      <td>13.0</td>\n",
       "      <td>6.8</td>\n",
       "      <td>1</td>\n",
       "      <td>1</td>\n",
       "      <td>1</td>\n",
       "      <td>1</td>\n",
       "      <td>Male</td>\n",
       "    </tr>\n",
       "    <tr>\n",
       "      <th>6</th>\n",
       "      <td>1</td>\n",
       "      <td>15.3</td>\n",
       "      <td>6.2</td>\n",
       "      <td>1</td>\n",
       "      <td>1</td>\n",
       "      <td>1</td>\n",
       "      <td>0</td>\n",
       "      <td>Male</td>\n",
       "    </tr>\n",
       "    <tr>\n",
       "      <th>7</th>\n",
       "      <td>0</td>\n",
       "      <td>13.0</td>\n",
       "      <td>5.2</td>\n",
       "      <td>0</td>\n",
       "      <td>0</td>\n",
       "      <td>0</td>\n",
       "      <td>0</td>\n",
       "      <td>Female</td>\n",
       "    </tr>\n",
       "    <tr>\n",
       "      <th>8</th>\n",
       "      <td>1</td>\n",
       "      <td>11.9</td>\n",
       "      <td>5.4</td>\n",
       "      <td>1</td>\n",
       "      <td>0</td>\n",
       "      <td>1</td>\n",
       "      <td>1</td>\n",
       "      <td>Female</td>\n",
       "    </tr>\n",
       "    <tr>\n",
       "      <th>9</th>\n",
       "      <td>1</td>\n",
       "      <td>12.1</td>\n",
       "      <td>5.4</td>\n",
       "      <td>0</td>\n",
       "      <td>0</td>\n",
       "      <td>0</td>\n",
       "      <td>0</td>\n",
       "      <td>Female</td>\n",
       "    </tr>\n",
       "  </tbody>\n",
       "</table>\n",
       "</div>"
      ],
      "text/plain": [
       "   long_hair  forehead_width_cm  forehead_height_cm  nose_wide  nose_long  \\\n",
       "0          1               11.8                 6.1          1          0   \n",
       "1          0               14.0                 5.4          0          0   \n",
       "2          0               11.8                 6.3          1          1   \n",
       "3          0               14.4                 6.1          0          1   \n",
       "4          1               13.5                 5.9          0          0   \n",
       "5          1               13.0                 6.8          1          1   \n",
       "6          1               15.3                 6.2          1          1   \n",
       "7          0               13.0                 5.2          0          0   \n",
       "8          1               11.9                 5.4          1          0   \n",
       "9          1               12.1                 5.4          0          0   \n",
       "\n",
       "   lips_thin  distance_nose_to_lip_long  gender  \n",
       "0          1                          1    Male  \n",
       "1          1                          0  Female  \n",
       "2          1                          1    Male  \n",
       "3          1                          1    Male  \n",
       "4          0                          0  Female  \n",
       "5          1                          1    Male  \n",
       "6          1                          0    Male  \n",
       "7          0                          0  Female  \n",
       "8          1                          1  Female  \n",
       "9          0                          0  Female  "
      ]
     },
     "execution_count": 2,
     "metadata": {},
     "output_type": "execute_result"
    }
   ],
   "source": [
    "df = pd.read_csv('datasets/gender_classification.csv')\n",
    "df.head(10)"
   ]
  },
  {
   "cell_type": "code",
   "execution_count": 3,
   "id": "c38133de-85c5-4aff-bbf3-3ae1cee99038",
   "metadata": {
    "tags": []
   },
   "outputs": [
    {
     "data": {
      "text/html": [
       "<div>\n",
       "<style scoped>\n",
       "    .dataframe tbody tr th:only-of-type {\n",
       "        vertical-align: middle;\n",
       "    }\n",
       "\n",
       "    .dataframe tbody tr th {\n",
       "        vertical-align: top;\n",
       "    }\n",
       "\n",
       "    .dataframe thead th {\n",
       "        text-align: right;\n",
       "    }\n",
       "</style>\n",
       "<table border=\"1\" class=\"dataframe\">\n",
       "  <thead>\n",
       "    <tr style=\"text-align: right;\">\n",
       "      <th></th>\n",
       "      <th>forehead_width_cm</th>\n",
       "      <th>long_hair</th>\n",
       "      <th>gender</th>\n",
       "    </tr>\n",
       "  </thead>\n",
       "  <tbody>\n",
       "    <tr>\n",
       "      <th>0</th>\n",
       "      <td>11.8</td>\n",
       "      <td>1</td>\n",
       "      <td>Male</td>\n",
       "    </tr>\n",
       "    <tr>\n",
       "      <th>1</th>\n",
       "      <td>14.0</td>\n",
       "      <td>0</td>\n",
       "      <td>Female</td>\n",
       "    </tr>\n",
       "    <tr>\n",
       "      <th>2</th>\n",
       "      <td>11.8</td>\n",
       "      <td>0</td>\n",
       "      <td>Male</td>\n",
       "    </tr>\n",
       "    <tr>\n",
       "      <th>3</th>\n",
       "      <td>14.4</td>\n",
       "      <td>0</td>\n",
       "      <td>Male</td>\n",
       "    </tr>\n",
       "    <tr>\n",
       "      <th>4</th>\n",
       "      <td>13.5</td>\n",
       "      <td>1</td>\n",
       "      <td>Female</td>\n",
       "    </tr>\n",
       "    <tr>\n",
       "      <th>5</th>\n",
       "      <td>13.0</td>\n",
       "      <td>1</td>\n",
       "      <td>Male</td>\n",
       "    </tr>\n",
       "    <tr>\n",
       "      <th>6</th>\n",
       "      <td>15.3</td>\n",
       "      <td>1</td>\n",
       "      <td>Male</td>\n",
       "    </tr>\n",
       "    <tr>\n",
       "      <th>7</th>\n",
       "      <td>13.0</td>\n",
       "      <td>0</td>\n",
       "      <td>Female</td>\n",
       "    </tr>\n",
       "    <tr>\n",
       "      <th>8</th>\n",
       "      <td>11.9</td>\n",
       "      <td>1</td>\n",
       "      <td>Female</td>\n",
       "    </tr>\n",
       "    <tr>\n",
       "      <th>9</th>\n",
       "      <td>12.1</td>\n",
       "      <td>1</td>\n",
       "      <td>Female</td>\n",
       "    </tr>\n",
       "  </tbody>\n",
       "</table>\n",
       "</div>"
      ],
      "text/plain": [
       "   forehead_width_cm  long_hair  gender\n",
       "0               11.8          1    Male\n",
       "1               14.0          0  Female\n",
       "2               11.8          0    Male\n",
       "3               14.4          0    Male\n",
       "4               13.5          1  Female\n",
       "5               13.0          1    Male\n",
       "6               15.3          1    Male\n",
       "7               13.0          0  Female\n",
       "8               11.9          1  Female\n",
       "9               12.1          1  Female"
      ]
     },
     "execution_count": 3,
     "metadata": {},
     "output_type": "execute_result"
    }
   ],
   "source": [
    "df_selected = df[['forehead_width_cm', 'long_hair', 'gender']]\n",
    "df_selected.head(10)"
   ]
  },
  {
   "cell_type": "markdown",
   "id": "0d35ea58-6a6e-4a87-8800-c27eb6733c94",
   "metadata": {},
   "source": [
    "# Центральные метрики\n",
    "Центральные метрики показывают центр или средние значения наборов данных.\n",
    "1.\tСреднеарифметическое;\n",
    "2.\tСредневзвешенное;\n",
    "3.\tМедиана;\n",
    "4.\tМода."
   ]
  },
  {
   "cell_type": "markdown",
   "id": "782376ee-e6e6-4e21-bfac-7e238704ac7f",
   "metadata": {},
   "source": [
    "#### Математическое ожидание\n",
    "**Математи́ческое ожида́ние** — одно из важнейших понятий в теории вероятностей, означающее среднее (взвешенное по вероятностям возможных значений) значение случайной величины. В случае непрерывной случайной величины подразумевается взвешивание по плотности распределения.\n",
    "\n",
    "На практике математическое ожидание обычно оценивается как среднее арифметическое наблюдаемых значений случайной величины (выборочное среднее, среднее по выборке). Доказано, что при соблюдении определенных слабых условий (в частности, если выборка является случайной, то есть наблюдения являются независимыми) выборочное среднее стремится к истинному значению математического ожидания случайной величины при стремлении объема выборки (количества наблюдений, испытаний, измерений) к бесконечности."
   ]
  },
  {
   "cell_type": "code",
   "execution_count": 4,
   "id": "2fc0fa78-80ad-497a-a93c-32e5a1bf903d",
   "metadata": {
    "tags": []
   },
   "outputs": [
    {
     "name": "stdout",
     "output_type": "stream",
     "text": [
      "Ширина лба: 13.181483703259348\n",
      "Высота лба: 5.946310737852429\n"
     ]
    }
   ],
   "source": [
    "print('Ширина лба:', st.mean(df['forehead_width_cm']))\n",
    "print('Высота лба:', st.mean(df['forehead_height_cm']))"
   ]
  },
  {
   "cell_type": "markdown",
   "id": "2a5f52e8-46a2-431d-a10b-00b6bf6beba1",
   "metadata": {},
   "source": [
    "### Средневзвешенное\n",
    "Также его называеют средневзвешенным арифметическим или средневзвешенным значением, является обобщением среднего арифметического, которое позволяет вам определить относительный вклад каждой точки данных в результат."
   ]
  },
  {
   "cell_type": "code",
   "execution_count": 5,
   "id": "41a1b1ba-e7ca-4d6d-899e-d68021c35c40",
   "metadata": {
    "tags": []
   },
   "outputs": [
    {
     "name": "stdout",
     "output_type": "stream",
     "text": [
      "Ширина лба: 13.145000000000001\n",
      "Высота лба: 5.99\n"
     ]
    }
   ],
   "source": [
    "w = [0.1, 0.2, 0.3, 0.25, 0.15]\n",
    "df_head = df.head(5)\n",
    "print('Ширина лба:', np.average(df_head['forehead_width_cm'], weights=w))\n",
    "print('Высота лба:', np.average(df_head['forehead_height_cm'], weights=w))"
   ]
  },
  {
   "cell_type": "markdown",
   "id": "78f860c2-f7fb-48ee-bb7d-9d1ac39d150e",
   "metadata": {},
   "source": [
    "### Медиана\n",
    "**Медиана** - это такое значение, что ровно половина выборки меньше него, а ровно половина - больше."
   ]
  },
  {
   "cell_type": "code",
   "execution_count": 6,
   "id": "099ae3a3-c11c-427b-889e-7b1c836f5256",
   "metadata": {
    "tags": []
   },
   "outputs": [
    {
     "name": "stdout",
     "output_type": "stream",
     "text": [
      "Ширина лба: aver: 13.1 low: 13.1 high: 13.1\n",
      "Высота лба: aver: 5.9 low: 5.9 high: 5.9\n"
     ]
    }
   ],
   "source": [
    "print('Ширина лба:', 'aver:', st.median(df['forehead_width_cm']), 'low:', st.median_low(df['forehead_width_cm']), 'high:', st.median_high(df['forehead_width_cm']))\n",
    "print('Высота лба:', 'aver:', st.median(df['forehead_height_cm']), 'low:', st.median_low(df['forehead_height_cm']), 'high:', st.median_high(df['forehead_height_cm']))"
   ]
  },
  {
   "cell_type": "markdown",
   "id": "224f77dd-6455-4adc-b088-4ff1c46f46b5",
   "metadata": {},
   "source": [
    "### Мода\n",
    "Мода - значение, которое наиболее часто встречается в выборке"
   ]
  },
  {
   "cell_type": "code",
   "execution_count": 7,
   "id": "61ffdb24-5f2d-4bfc-8588-59426173c5a0",
   "metadata": {
    "tags": []
   },
   "outputs": [
    {
     "name": "stdout",
     "output_type": "stream",
     "text": [
      "Ширина лба: 12.0\n",
      "Высота лба: 5.7\n"
     ]
    }
   ],
   "source": [
    "print('Ширина лба:', st.mode(df['forehead_width_cm']))\n",
    "print('Высота лба:', st.mode(df['forehead_height_cm']))"
   ]
  },
  {
   "cell_type": "markdown",
   "id": "89fb9355-364e-4cb7-8a78-2dcf09f59bd8",
   "metadata": {},
   "source": [
    "### Минимум и максимум"
   ]
  },
  {
   "cell_type": "code",
   "execution_count": 8,
   "id": "3b4c4dd9-309b-45bf-87ef-43fc84ba268c",
   "metadata": {
    "tags": []
   },
   "outputs": [
    {
     "name": "stdout",
     "output_type": "stream",
     "text": [
      "Ширина лба: min: 11.4 max: 15.5\n",
      "Высота лба: min: 5.1 max: 7.1\n"
     ]
    }
   ],
   "source": [
    "print('Ширина лба:', 'min:', np.min(df['forehead_width_cm']), 'max:', np.max(df['forehead_width_cm']))\n",
    "print('Высота лба:', 'min:', np.min(df['forehead_height_cm']) , 'max:', np.max(df['forehead_height_cm']))"
   ]
  },
  {
   "cell_type": "markdown",
   "id": "166eb93f-5abd-4dfb-96da-ec1e526ac291",
   "metadata": {},
   "source": [
    "## Метрики оценки вариативности данных\n",
    "Центральных метрик недостаточно для описания данных. Практически всегда необходимы метрики оценки вариативности данных, которые количественно определяют разброс точек данных. В этом разделе вы узнаете, как определить и рассчитать следующие показатели:\n",
    "1.\tдисперсия;\n",
    "2.\tсреднеквадратичное отклонение;\n",
    "3.\tсмещение;\n",
    "4.\tпроцентили;\n",
    "5.\tдиапазон;"
   ]
  },
  {
   "cell_type": "markdown",
   "id": "704fb79b-5a32-4143-83fd-32fe8e7d261e",
   "metadata": {},
   "source": [
    "### Дисперсия\n",
    "Дисперсия - квадрат стандартного отклонения. Количественно определяет разброс данных. Численно показывает, как далеко точки данных от среднего значения.\n",
    "\n",
    "Дисперсия позволяет нам понять, насколько сильно значения отклоняются от среднего."
   ]
  },
  {
   "cell_type": "code",
   "execution_count": 9,
   "id": "8ad7f948-ca5e-44c1-861d-36eb938c37e3",
   "metadata": {
    "tags": []
   },
   "outputs": [
    {
     "name": "stdout",
     "output_type": "stream",
     "text": [
      "Ширина лба: 1.2254879805882455\n",
      "Высота лба: 0.2929123041618431\n"
     ]
    }
   ],
   "source": [
    "print('Ширина лба:', st.pvariance(df['forehead_width_cm']))\n",
    "print('Высота лба:', st.pvariance(df['forehead_height_cm']))"
   ]
  },
  {
   "cell_type": "markdown",
   "id": "0c183896-0224-49c7-87c4-4a6ac6487c98",
   "metadata": {},
   "source": [
    "### Стандартное отклонение\n",
    "Стандартное отклонение выборки является еще одним показателем разброса данных. Он связан с оценкой дисперсией, поскольку стандартное отклонение есть положительным квадратный корень из оценки дисперсии.\n",
    "\n",
    "Как и дисперсия, стандартное отклонение отражает разницу между всеми значениями и средним значением. Используя квадратный корень из дисперсии, стандартное отклонение измеряется в тех же единицах, что и значения\n",
    "исходного набора данных.\n",
    "\n",
    "Стандартное отклонение часто более удобно, чем дисперсия, потому что имеет ту же размерность, что и данные. Получив дисперсию, вы можете рассчитать стандартное отклонение с помощью библиотек Python."
   ]
  },
  {
   "cell_type": "code",
   "execution_count": 10,
   "id": "fb80c9db-d9c7-4887-aa74-209c404b69e0",
   "metadata": {
    "tags": []
   },
   "outputs": [
    {
     "name": "stdout",
     "output_type": "stream",
     "text": [
      "Ширина лба: 1.1070176062684123\n",
      "Высота лба: 0.5412137324217144\n"
     ]
    }
   ],
   "source": [
    "print('Ширина лба:', st.pstdev(df['forehead_width_cm']))\n",
    "print('Высота лба:', st.pstdev(df['forehead_height_cm']))"
   ]
  },
  {
   "cell_type": "markdown",
   "id": "fe86fa6c-b7c4-4420-af6f-7cc913f7c03e",
   "metadata": {},
   "source": [
    "### Квантиль (процентиль)\n",
    "Квантиль (мужской род, ударение падает на последний слог) – значение, которое заданная случайная величина не превышает с фиксированной вероят- ностью. 0,25-квантиль (говорят квантиль уровня 0,25) – это значение, ниже которого будет лежать 25 % значений числового ряда, а выше – 75 % значений числового ряда.\n",
    "\n",
    "Самым известным квантилем является 0,5-квантиль или медиана – значение, которое делит упорядоченный числовой ряд пополам, то есть ровно половина остальных значений больше него, а другая половина меньше его.\n",
    "\n",
    "Каждый набор данных имеет три квартиля, которые являются процентилями, делящими набор данных на четыре части:\n",
    "\n",
    "•\tПервый квартиль — это образец 25-го процентиля. Он разделяет примерно 25% самых маленьких элементов от остальной части набора данных.\n",
    "\n",
    "•\tВторой квартиль — это образец 50-го процентиля или медиана. Приблизительно 25% элементов находятся между первым и вторым квартилями и еще 25% между вторым и третьим квартилями.\n",
    "\n",
    "•\tТретий квартиль — это образец 75-го процентиля. Он разделяет примерно 25% самых больших элементов от остальной части набора данных.\n",
    "\n",
    "(Например, фраза «90-й процентиль массы тела у новорожденных мальчиков составляет 4 кг» означает, что 90 %  мальчиков рождаются с весом, меньшим либо равным 4 кг, а 10 % мальчиков рождаются с весом, большим 4 кг.)\n",
    "\n",
    "Вы также можете использовать `np.percentile()` для определения любого процентиля в наборе данных. Например, вот так вы можете найти 5-й и 95-й процентили:\n",
    "![img](https://drive.google.com/uc?id=1a8l2x1xxgPRrnAgvD-21L-hmPE2DQkF3)"
   ]
  },
  {
   "cell_type": "markdown",
   "id": "153ca331-95f9-44ec-bef5-8ea1a717bfea",
   "metadata": {
    "tags": []
   },
   "source": [
    "5-й"
   ]
  },
  {
   "cell_type": "code",
   "execution_count": 11,
   "id": "6a2f4396-6bd7-4879-91ec-afbc0bf5abc7",
   "metadata": {
    "tags": []
   },
   "outputs": [
    {
     "name": "stdout",
     "output_type": "stream",
     "text": [
      "Ширина лба: 11.6\n",
      "Высота лба: 5.1\n"
     ]
    }
   ],
   "source": [
    "print('Ширина лба:', np.percentile(df['forehead_width_cm'], 5))\n",
    "print('Высота лба:', np.percentile(df['forehead_height_cm'], 5))"
   ]
  },
  {
   "cell_type": "markdown",
   "id": "2b9c4d7a-d7bc-4796-9c1a-2a0369a510a7",
   "metadata": {},
   "source": [
    "95-й"
   ]
  },
  {
   "cell_type": "code",
   "execution_count": 12,
   "id": "003b47c0-1695-4ed1-b0e0-8e54eb07ce19",
   "metadata": {
    "tags": []
   },
   "outputs": [
    {
     "name": "stdout",
     "output_type": "stream",
     "text": [
      "Ширина лба: 15.2\n",
      "Высота лба: 6.9\n"
     ]
    }
   ],
   "source": [
    "print('Ширина лба:', np.percentile(df['forehead_width_cm'], 95))\n",
    "print('Высота лба:', np.percentile(df['forehead_height_cm'], 95))"
   ]
  },
  {
   "cell_type": "markdown",
   "id": "bfdf2d2f-3b92-4382-bd16-653a705d5307",
   "metadata": {},
   "source": [
    "25-й, 50-й, 75-й"
   ]
  },
  {
   "cell_type": "code",
   "execution_count": 13,
   "id": "6fe10fb8-558a-47c5-ae0f-ec8833dd498d",
   "metadata": {
    "tags": []
   },
   "outputs": [
    {
     "name": "stdout",
     "output_type": "stream",
     "text": [
      "Ширина лба: [12.2 13.1 14. ]\n",
      "Высота лба: [5.5 5.9 6.4]\n"
     ]
    }
   ],
   "source": [
    "print('Ширина лба:', np.percentile(df['forehead_width_cm'], [25, 50, 75]))\n",
    "print('Высота лба:', np.percentile(df['forehead_height_cm'], [25, 50, 75]))"
   ]
  },
  {
   "cell_type": "markdown",
   "id": "ba885d2b-d5b8-43dd-85f0-7bca5573ae00",
   "metadata": {},
   "source": [
    "### Размах"
   ]
  },
  {
   "cell_type": "markdown",
   "id": "2ac7d8e1-5f11-44e3-be0e-fc786f30474c",
   "metadata": {},
   "source": [
    "Разница между минимальным и максимальным значениями"
   ]
  },
  {
   "cell_type": "code",
   "execution_count": 14,
   "id": "1db104de-9bf6-4e77-9cfe-2da9a4f74ffc",
   "metadata": {
    "tags": []
   },
   "outputs": [
    {
     "name": "stdout",
     "output_type": "stream",
     "text": [
      "Ширина лба: 4.1\n",
      "Высота лба: 2.0\n"
     ]
    }
   ],
   "source": [
    "print('Ширина лба:', max(df['forehead_width_cm'])-min(df['forehead_width_cm']))\n",
    "print('Высота лба:', max(df['forehead_height_cm'])-min(df['forehead_height_cm']))"
   ]
  },
  {
   "cell_type": "markdown",
   "id": "868f6e76-163a-4221-a696-2de9d9e34049",
   "metadata": {
    "tags": []
   },
   "source": [
    "### Корреляция"
   ]
  },
  {
   "cell_type": "markdown",
   "id": "9631bef1-2c6c-4063-84d7-e38147e6e6e0",
   "metadata": {},
   "source": [
    "Взаимосвязь двух выборок друг от друга. Чтобы графически увидеть взаимосвязь двух переменных, необходимо построить точечный график зависимости друг от друга. Например, возьмем 2 параметра - ширина лба и гендер. Зависит ли гендер от ширина лба?"
   ]
  },
  {
   "cell_type": "code",
   "execution_count": 32,
   "id": "d141e6b2-d810-4d03-a691-a929f0902d13",
   "metadata": {
    "tags": []
   },
   "outputs": [
    {
     "data": {
      "image/png": "[encoded data removed]",
      "text/plain": [
       "<Figure size 640x480 with 1 Axes>"
      ]
     },
     "metadata": {},
     "output_type": "display_data"
    }
   ],
   "source": [
    "plt.xlabel('пол')\n",
    "plt.ylabel('ширина лба')\n",
    "plt.title('Точечный график зависимости ширины лба от пола')\n",
    "plt.grid(True)\n",
    "plt.scatter(df['gender'], df['forehead_width_cm'], marker='.')\n",
    "plt.show()"
   ]
  },
  {
   "cell_type": "markdown",
   "id": "40b739ab-c852-4210-a170-242d1300d876",
   "metadata": {},
   "source": [
    "Из графика видно, что только после определенного показателя значения ширины лба можно определить гендер"
   ]
  },
  {
   "cell_type": "markdown",
   "id": "78bdc2c1-6b21-4e82-af8e-eeae9ece2f7e",
   "metadata": {},
   "source": [
    "### Описательная статистика Pandas"
   ]
  },
  {
   "cell_type": "code",
   "execution_count": 16,
   "id": "383c9a00-d46b-4378-9287-00805594bcf3",
   "metadata": {
    "tags": []
   },
   "outputs": [
    {
     "data": {
      "text/html": [
       "<div>\n",
       "<style scoped>\n",
       "    .dataframe tbody tr th:only-of-type {\n",
       "        vertical-align: middle;\n",
       "    }\n",
       "\n",
       "    .dataframe tbody tr th {\n",
       "        vertical-align: top;\n",
       "    }\n",
       "\n",
       "    .dataframe thead th {\n",
       "        text-align: right;\n",
       "    }\n",
       "</style>\n",
       "<table border=\"1\" class=\"dataframe\">\n",
       "  <thead>\n",
       "    <tr style=\"text-align: right;\">\n",
       "      <th></th>\n",
       "      <th>long_hair</th>\n",
       "      <th>forehead_width_cm</th>\n",
       "      <th>forehead_height_cm</th>\n",
       "      <th>nose_wide</th>\n",
       "      <th>nose_long</th>\n",
       "      <th>lips_thin</th>\n",
       "    </tr>\n",
       "  </thead>\n",
       "  <tbody>\n",
       "    <tr>\n",
       "      <th>count</th>\n",
       "      <td>5001.000000</td>\n",
       "      <td>5001.000000</td>\n",
       "      <td>5001.000000</td>\n",
       "      <td>5001.000000</td>\n",
       "      <td>5001.000000</td>\n",
       "      <td>5001.000000</td>\n",
       "    </tr>\n",
       "    <tr>\n",
       "      <th>mean</th>\n",
       "      <td>0.869626</td>\n",
       "      <td>13.181484</td>\n",
       "      <td>5.946311</td>\n",
       "      <td>0.493901</td>\n",
       "      <td>0.507898</td>\n",
       "      <td>0.493101</td>\n",
       "    </tr>\n",
       "    <tr>\n",
       "      <th>std</th>\n",
       "      <td>0.336748</td>\n",
       "      <td>1.107128</td>\n",
       "      <td>0.541268</td>\n",
       "      <td>0.500013</td>\n",
       "      <td>0.499988</td>\n",
       "      <td>0.500002</td>\n",
       "    </tr>\n",
       "    <tr>\n",
       "      <th>min</th>\n",
       "      <td>0.000000</td>\n",
       "      <td>11.400000</td>\n",
       "      <td>5.100000</td>\n",
       "      <td>0.000000</td>\n",
       "      <td>0.000000</td>\n",
       "      <td>0.000000</td>\n",
       "    </tr>\n",
       "    <tr>\n",
       "      <th>25%</th>\n",
       "      <td>1.000000</td>\n",
       "      <td>12.200000</td>\n",
       "      <td>5.500000</td>\n",
       "      <td>0.000000</td>\n",
       "      <td>0.000000</td>\n",
       "      <td>0.000000</td>\n",
       "    </tr>\n",
       "    <tr>\n",
       "      <th>50%</th>\n",
       "      <td>1.000000</td>\n",
       "      <td>13.100000</td>\n",
       "      <td>5.900000</td>\n",
       "      <td>0.000000</td>\n",
       "      <td>1.000000</td>\n",
       "      <td>0.000000</td>\n",
       "    </tr>\n",
       "    <tr>\n",
       "      <th>75%</th>\n",
       "      <td>1.000000</td>\n",
       "      <td>14.000000</td>\n",
       "      <td>6.400000</td>\n",
       "      <td>1.000000</td>\n",
       "      <td>1.000000</td>\n",
       "      <td>1.000000</td>\n",
       "    </tr>\n",
       "    <tr>\n",
       "      <th>max</th>\n",
       "      <td>1.000000</td>\n",
       "      <td>15.500000</td>\n",
       "      <td>7.100000</td>\n",
       "      <td>1.000000</td>\n",
       "      <td>1.000000</td>\n",
       "      <td>1.000000</td>\n",
       "    </tr>\n",
       "  </tbody>\n",
       "</table>\n",
       "</div>"
      ],
      "text/plain": [
       "         long_hair  forehead_width_cm  forehead_height_cm    nose_wide  \\\n",
       "count  5001.000000        5001.000000         5001.000000  5001.000000   \n",
       "mean      0.869626          13.181484            5.946311     0.493901   \n",
       "std       0.336748           1.107128            0.541268     0.500013   \n",
       "min       0.000000          11.400000            5.100000     0.000000   \n",
       "25%       1.000000          12.200000            5.500000     0.000000   \n",
       "50%       1.000000          13.100000            5.900000     0.000000   \n",
       "75%       1.000000          14.000000            6.400000     1.000000   \n",
       "max       1.000000          15.500000            7.100000     1.000000   \n",
       "\n",
       "         nose_long    lips_thin  \n",
       "count  5001.000000  5001.000000  \n",
       "mean      0.507898     0.493101  \n",
       "std       0.499988     0.500002  \n",
       "min       0.000000     0.000000  \n",
       "25%       0.000000     0.000000  \n",
       "50%       1.000000     0.000000  \n",
       "75%       1.000000     1.000000  \n",
       "max       1.000000     1.000000  "
      ]
     },
     "execution_count": 16,
     "metadata": {},
     "output_type": "execute_result"
    }
   ],
   "source": [
    "df_ = df.drop(columns=['distance_nose_to_lip_long'])\n",
    "df_.describe()"
   ]
  },
  {
   "cell_type": "markdown",
   "id": "7ac11267-2cfd-4fca-89a3-1ae6e3a6687e",
   "metadata": {},
   "source": [
    "### Корреляция Пирсона"
   ]
  },
  {
   "cell_type": "markdown",
   "id": "8b0f2536-254b-4585-a364-eedd22affa0f",
   "metadata": {},
   "source": [
    "1. Экспериментальные данные должны быть представлены в только в  интервальной шкале  или шкале отношений.\n",
    "2. Распределение экспериментальных данных подчиняется нормальному закону.\n",
    "3. Предполагается линейная зависимость между случайными величинами X и Y."
   ]
  },
  {
   "cell_type": "code",
   "execution_count": 17,
   "id": "3e72f09f-a881-4cf4-9bb6-41f11f71047e",
   "metadata": {},
   "outputs": [
    {
     "data": {
      "text/html": [
       "<div>\n",
       "<style scoped>\n",
       "    .dataframe tbody tr th:only-of-type {\n",
       "        vertical-align: middle;\n",
       "    }\n",
       "\n",
       "    .dataframe tbody tr th {\n",
       "        vertical-align: top;\n",
       "    }\n",
       "\n",
       "    .dataframe thead th {\n",
       "        text-align: right;\n",
       "    }\n",
       "</style>\n",
       "<table border=\"1\" class=\"dataframe\">\n",
       "  <thead>\n",
       "    <tr style=\"text-align: right;\">\n",
       "      <th></th>\n",
       "      <th>long_hair</th>\n",
       "      <th>forehead_width_cm</th>\n",
       "      <th>forehead_height_cm</th>\n",
       "      <th>nose_wide</th>\n",
       "      <th>nose_long</th>\n",
       "      <th>lips_thin</th>\n",
       "      <th>distance_nose_to_lip_long</th>\n",
       "      <th>gender</th>\n",
       "      <th>gender_num</th>\n",
       "    </tr>\n",
       "  </thead>\n",
       "  <tbody>\n",
       "    <tr>\n",
       "      <th>0</th>\n",
       "      <td>1</td>\n",
       "      <td>11.8</td>\n",
       "      <td>6.1</td>\n",
       "      <td>1</td>\n",
       "      <td>0</td>\n",
       "      <td>1</td>\n",
       "      <td>1</td>\n",
       "      <td>Male</td>\n",
       "      <td>1</td>\n",
       "    </tr>\n",
       "    <tr>\n",
       "      <th>1</th>\n",
       "      <td>0</td>\n",
       "      <td>14.0</td>\n",
       "      <td>5.4</td>\n",
       "      <td>0</td>\n",
       "      <td>0</td>\n",
       "      <td>1</td>\n",
       "      <td>0</td>\n",
       "      <td>Female</td>\n",
       "      <td>0</td>\n",
       "    </tr>\n",
       "    <tr>\n",
       "      <th>2</th>\n",
       "      <td>0</td>\n",
       "      <td>11.8</td>\n",
       "      <td>6.3</td>\n",
       "      <td>1</td>\n",
       "      <td>1</td>\n",
       "      <td>1</td>\n",
       "      <td>1</td>\n",
       "      <td>Male</td>\n",
       "      <td>1</td>\n",
       "    </tr>\n",
       "    <tr>\n",
       "      <th>3</th>\n",
       "      <td>0</td>\n",
       "      <td>14.4</td>\n",
       "      <td>6.1</td>\n",
       "      <td>0</td>\n",
       "      <td>1</td>\n",
       "      <td>1</td>\n",
       "      <td>1</td>\n",
       "      <td>Male</td>\n",
       "      <td>1</td>\n",
       "    </tr>\n",
       "    <tr>\n",
       "      <th>4</th>\n",
       "      <td>1</td>\n",
       "      <td>13.5</td>\n",
       "      <td>5.9</td>\n",
       "      <td>0</td>\n",
       "      <td>0</td>\n",
       "      <td>0</td>\n",
       "      <td>0</td>\n",
       "      <td>Female</td>\n",
       "      <td>0</td>\n",
       "    </tr>\n",
       "    <tr>\n",
       "      <th>5</th>\n",
       "      <td>1</td>\n",
       "      <td>13.0</td>\n",
       "      <td>6.8</td>\n",
       "      <td>1</td>\n",
       "      <td>1</td>\n",
       "      <td>1</td>\n",
       "      <td>1</td>\n",
       "      <td>Male</td>\n",
       "      <td>1</td>\n",
       "    </tr>\n",
       "    <tr>\n",
       "      <th>6</th>\n",
       "      <td>1</td>\n",
       "      <td>15.3</td>\n",
       "      <td>6.2</td>\n",
       "      <td>1</td>\n",
       "      <td>1</td>\n",
       "      <td>1</td>\n",
       "      <td>0</td>\n",
       "      <td>Male</td>\n",
       "      <td>1</td>\n",
       "    </tr>\n",
       "    <tr>\n",
       "      <th>7</th>\n",
       "      <td>0</td>\n",
       "      <td>13.0</td>\n",
       "      <td>5.2</td>\n",
       "      <td>0</td>\n",
       "      <td>0</td>\n",
       "      <td>0</td>\n",
       "      <td>0</td>\n",
       "      <td>Female</td>\n",
       "      <td>0</td>\n",
       "    </tr>\n",
       "    <tr>\n",
       "      <th>8</th>\n",
       "      <td>1</td>\n",
       "      <td>11.9</td>\n",
       "      <td>5.4</td>\n",
       "      <td>1</td>\n",
       "      <td>0</td>\n",
       "      <td>1</td>\n",
       "      <td>1</td>\n",
       "      <td>Female</td>\n",
       "      <td>0</td>\n",
       "    </tr>\n",
       "    <tr>\n",
       "      <th>9</th>\n",
       "      <td>1</td>\n",
       "      <td>12.1</td>\n",
       "      <td>5.4</td>\n",
       "      <td>0</td>\n",
       "      <td>0</td>\n",
       "      <td>0</td>\n",
       "      <td>0</td>\n",
       "      <td>Female</td>\n",
       "      <td>0</td>\n",
       "    </tr>\n",
       "  </tbody>\n",
       "</table>\n",
       "</div>"
      ],
      "text/plain": [
       "   long_hair  forehead_width_cm  forehead_height_cm  nose_wide  nose_long  \\\n",
       "0          1               11.8                 6.1          1          0   \n",
       "1          0               14.0                 5.4          0          0   \n",
       "2          0               11.8                 6.3          1          1   \n",
       "3          0               14.4                 6.1          0          1   \n",
       "4          1               13.5                 5.9          0          0   \n",
       "5          1               13.0                 6.8          1          1   \n",
       "6          1               15.3                 6.2          1          1   \n",
       "7          0               13.0                 5.2          0          0   \n",
       "8          1               11.9                 5.4          1          0   \n",
       "9          1               12.1                 5.4          0          0   \n",
       "\n",
       "   lips_thin  distance_nose_to_lip_long  gender  gender_num  \n",
       "0          1                          1    Male           1  \n",
       "1          1                          0  Female           0  \n",
       "2          1                          1    Male           1  \n",
       "3          1                          1    Male           1  \n",
       "4          0                          0  Female           0  \n",
       "5          1                          1    Male           1  \n",
       "6          1                          0    Male           1  \n",
       "7          0                          0  Female           0  \n",
       "8          1                          1  Female           0  \n",
       "9          0                          0  Female           0  "
      ]
     },
     "execution_count": 17,
     "metadata": {},
     "output_type": "execute_result"
    }
   ],
   "source": [
    "df['gender_num'] = (df['gender'] == 'Male').astype(int)\n",
    "df.head(10)"
   ]
  },
  {
   "cell_type": "code",
   "execution_count": 18,
   "id": "70b7f63e-3341-4a9f-98e7-8e096de026cb",
   "metadata": {
    "tags": []
   },
   "outputs": [
    {
     "name": "stdout",
     "output_type": "stream",
     "text": [
      "Коэффициент корреляции Пирсона: 0.3341250632120522\n"
     ]
    },
    {
     "data": {
      "image/png": "[encoded data removed]",
      "text/plain": [
       "<Figure size 640x480 with 1 Axes>"
      ]
     },
     "metadata": {},
     "output_type": "display_data"
    }
   ],
   "source": [
    "corr, p_value = pearsonr(df['gender_num'], df['forehead_width_cm'])\n",
    "plt.scatter(df['gender'], df['forehead_width_cm'], marker='.')\n",
    "print('Коэффициент корреляции Пирсона:', corr)"
   ]
  },
  {
   "cell_type": "code",
   "execution_count": 19,
   "id": "c819d167-ca1d-4328-8f02-1500cc509799",
   "metadata": {
    "tags": []
   },
   "outputs": [
    {
     "name": "stdout",
     "output_type": "stream",
     "text": [
      "Коэффициент корреляции Пирсона: 0.27719041906756764\n"
     ]
    },
    {
     "data": {
      "image/png": "[encoded data removed]",
      "text/plain": [
       "<Figure size 640x480 with 1 Axes>"
      ]
     },
     "metadata": {},
     "output_type": "display_data"
    }
   ],
   "source": [
    "corr, p_value = pearsonr(df['gender_num'], df['forehead_height_cm'])\n",
    "plt.scatter(df['gender_num'], df['forehead_height_cm'], marker='.')\n",
    "print('Коэффициент корреляции Пирсона:', corr)"
   ]
  },
  {
   "cell_type": "markdown",
   "id": "ee1e093a-b28f-4bfa-8fb4-a5837eac35fb",
   "metadata": {},
   "source": [
    "Чтобы приступать к расчетам коэффициента корреляции r-Пирсона необходимо выполнение следующих условий:\n",
    "\n",
    "*  Исследуемые переменные X и Y должны быть распределены нормально (делаем допущение, что переменные распределены нормально).\n",
    "*  Исследуемые переменные X и Y должны быть измерены в интервальной шкале или шкале отношений.\n",
    "*  Количество значений в исследуемых переменных X и Y должно быть одинаковым.\n",
    "\n",
    "Чем коэффициент ближе к 0, тем более независимы переменные.\n",
    "\n",
    "**Минусы коэффициента корреляции Пирсона:**\n",
    "- Неустойчивость к выбросам.\n",
    "- С помощью коэффициента корреляции Пирсона можно определить только силу линейной взаимосвязи между переменными, другие виды взаимосвязей выявляются методами регрессионного анализа."
   ]
  },
  {
   "cell_type": "markdown",
   "id": "3e4f9452-2dcf-41de-928a-d197b2a4455f",
   "metadata": {},
   "source": [
    "### Корреляция Спирмана"
   ]
  },
  {
   "cell_type": "markdown",
   "id": "e67c57d4-0525-48c9-be4b-a729d9d4bc25",
   "metadata": {},
   "source": [
    "При расчете коэффициента корреляции Спирмена требования к исходным данным менее строгие, а именно:\n",
    "1. Данные могут быть представлены в порядковой, интервальной шкале или шкале отношений.\n",
    "2. Допускается любой закон распределения случайных величин X и Y.\n",
    "3. Между случайными величинами X и Y должна существовать монотонно-возрастающая или монотонно-убывающая зависимость."
   ]
  },
  {
   "cell_type": "code",
   "execution_count": 20,
   "id": "fa6d32aa-08cd-4d59-8ca0-5f7b6790022f",
   "metadata": {
    "tags": []
   },
   "outputs": [
    {
     "name": "stdout",
     "output_type": "stream",
     "text": [
      "0.3130083630111466\n"
     ]
    }
   ],
   "source": [
    "cor, p_value = sts.spearmanr(df['gender_num'], df['forehead_width_cm'])\n",
    "print(cor)"
   ]
  },
  {
   "cell_type": "code",
   "execution_count": 21,
   "id": "38adb731-fe21-4e65-9f15-fdce0b16f763",
   "metadata": {
    "tags": []
   },
   "outputs": [
    {
     "name": "stdout",
     "output_type": "stream",
     "text": [
      "0.251226680540353\n"
     ]
    }
   ],
   "source": [
    "cor, p_value = sts.spearmanr(df['gender_num'], df['forehead_height_cm'])\n",
    "print(cor)"
   ]
  },
  {
   "cell_type": "markdown",
   "id": "5bf1fa92-79e5-458f-8b98-4144350cae89",
   "metadata": {},
   "source": [
    "### Тау Кендалла"
   ]
  },
  {
   "cell_type": "markdown",
   "id": "525af7f4-91d3-475e-8bab-92e6f3c4d283",
   "metadata": {},
   "source": [
    "Коэффициент ранговой корреляции tau-Кендалла является альтернативой методу определения корреляции r-Спирмана. Он предназначен для определения взаимосвязи между двумя ранговыми переменными."
   ]
  },
  {
   "cell_type": "code",
   "execution_count": 22,
   "id": "35e78a06-cd50-4d2c-9cf4-b6d8afce8111",
   "metadata": {
    "tags": []
   },
   "outputs": [
    {
     "name": "stdout",
     "output_type": "stream",
     "text": [
      "0.25887774212220205\n"
     ]
    }
   ],
   "source": [
    "cor, p_value = sts.kendalltau(df['gender_num'], df['forehead_width_cm'])\n",
    "print(cor)"
   ]
  },
  {
   "cell_type": "code",
   "execution_count": 23,
   "id": "8df3f588-41bd-4a97-bb8d-49fcc982c505",
   "metadata": {
    "tags": []
   },
   "outputs": [
    {
     "name": "stdout",
     "output_type": "stream",
     "text": [
      "0.2104611149827891\n"
     ]
    }
   ],
   "source": [
    "cor, p_value = sts.kendalltau(df['gender_num'], df['forehead_height_cm'])\n",
    "print(cor)"
   ]
  },
  {
   "cell_type": "markdown",
   "id": "48eb3645-5554-4315-9a23-6cfee19ce7ab",
   "metadata": {},
   "source": [
    "# Пример корелляции данных, загруженных с помощью pandas\n",
    "Матрица корреляций"
   ]
  },
  {
   "cell_type": "code",
   "execution_count": 25,
   "id": "a2da4a4e-b9e7-41f7-a1ee-84d63b533be6",
   "metadata": {
    "tags": []
   },
   "outputs": [
    {
     "data": {
      "image/png": "[encoded data removed]",
      "text/plain": [
       "<Figure size 1200x1200 with 2 Axes>"
      ]
     },
     "metadata": {},
     "output_type": "display_data"
    }
   ],
   "source": [
    "import seaborn as sns\n",
    "df_ = df.drop(columns=['gender'])\n",
    "sns.heatmap(df_.corr(),annot=True,cmap='RdYlGn',linewidths=0.2) #data.corr()-->correlation matrix\n",
    "fig=plt.gcf()\n",
    "fig.set_size_inches(12,12)\n",
    "plt.show()"
   ]
  },
  {
   "cell_type": "markdown",
   "id": "77aa26db-8a2b-4b1e-9940-53d57cc2af5e",
   "metadata": {},
   "source": [
    "### Входные параметры:\n",
    "* Параметры nose_long и lips_thin имею схожую корреляцию с другими параметрами и одинаково коррелируются с выходным параметром.\n",
    "* Параметры forehead_width_cm и forehead_height_cm имею близкую корреляцию с другими параметрами и примерно одинаково коррелируются с выходным параметром.\n",
    "### С выходным параметром:\n",
    "* Слабая корреляция gender_num с : длиной волос и высотой лба\n",
    "* Средняя корреляция (ниже среднего) gender_num с шириной лба\n",
    "* Сильная корреляция gender_num с шириной носа"
   ]
  },
  {
   "cell_type": "markdown",
   "id": "d1d3a9ae-e645-49b8-b507-209df4f96809",
   "metadata": {},
   "source": [
    "### Выбросы"
   ]
  },
  {
   "cell_type": "code",
   "execution_count": 38,
   "id": "11466a13-52fc-4a46-a5fc-f04560b9ad07",
   "metadata": {
    "tags": []
   },
   "outputs": [
    {
     "data": {
      "text/plain": [
       "0"
      ]
     },
     "execution_count": 38,
     "metadata": {},
     "output_type": "execute_result"
    }
   ],
   "source": [
    "df['gender_num'].isnull().sum()"
   ]
  },
  {
   "cell_type": "code",
   "execution_count": 39,
   "id": "3311f58f-fe34-48d1-b50f-a89a04f6201a",
   "metadata": {
    "tags": []
   },
   "outputs": [
    {
     "data": {
      "text/plain": [
       "0"
      ]
     },
     "execution_count": 39,
     "metadata": {},
     "output_type": "execute_result"
    }
   ],
   "source": [
    "df['forehead_width_cm'].isnull().sum()"
   ]
  },
  {
   "cell_type": "code",
   "execution_count": 40,
   "id": "baae16bb-bdc4-4e21-952f-67f2075b9759",
   "metadata": {},
   "outputs": [
    {
     "data": {
      "text/plain": [
       "0"
      ]
     },
     "execution_count": 40,
     "metadata": {},
     "output_type": "execute_result"
    }
   ],
   "source": [
    "df['forehead_height_cm'].isnull().sum()"
   ]
  },
  {
   "cell_type": "markdown",
   "id": "6141f003-ad7b-4f24-b201-c34b9009a898",
   "metadata": {
    "tags": []
   },
   "source": [
    "Нулевых значений в колонках нет"
   ]
  },
  {
   "cell_type": "code",
   "execution_count": 42,
   "id": "4955d271-6dce-4a14-8f63-9461fbfee6e0",
   "metadata": {
    "tags": []
   },
   "outputs": [
    {
     "data": {
      "image/png": "[encoded data removed]",
      "text/plain": [
       "<Figure size 640x480 with 1 Axes>"
      ]
     },
     "metadata": {},
     "output_type": "display_data"
    }
   ],
   "source": [
    "gen = df['gender_num']\n",
    "forehead_width = df['forehead_width_cm']\n",
    "fig, ax = plt.subplots()\n",
    "ax.scatter(gen, forehead_width, c='red', alpha=0.3, edgecolors='none')\n",
    "\n",
    "ax.grid(True)\n",
    "plt.xlabel('пол')\n",
    "plt.ylabel('ширина лба')\n",
    "plt.show()"
   ]
  },
  {
   "cell_type": "markdown",
   "id": "7d3ac755-1cf0-468b-bf2c-6eb97e93cf88",
   "metadata": {},
   "source": [
    "# Распределение"
   ]
  },
  {
   "cell_type": "markdown",
   "id": "e70c1ff4-6efc-4bbf-8e3b-4ee252a8fd80",
   "metadata": {},
   "source": [
    "**Зададим нормальное распределение теоритически.**\n",
    "Частотный график выборки y  (или график плотности вероятности)."
   ]
  },
  {
   "cell_type": "code",
   "execution_count": 37,
   "id": "327d1207-6f88-448a-a73a-9913206bf1bb",
   "metadata": {},
   "outputs": [
    {
     "data": {
      "image/png": "[encoded data removed]",
      "text/plain": [
       "<Figure size 640x480 with 1 Axes>"
      ]
     },
     "metadata": {},
     "output_type": "display_data"
    }
   ],
   "source": [
    "plt.hist(df['forehead_width_cm'],100)\n",
    "plt.xlabel('Интервал выборки')\n",
    "plt.ylabel('Количество элементов')\n",
    "plt.title('Частотный график выборки y')\n",
    "plt.grid(True)\n",
    "plt.show()"
   ]
  },
  {
   "cell_type": "markdown",
   "id": "febe7261-9e2f-47c9-bc2e-adc9fff1d7a3",
   "metadata": {},
   "source": [
    "Построим графики функции плотности вероятности:"
   ]
  },
  {
   "cell_type": "code",
   "execution_count": 38,
   "id": "1c32171a-ac52-46c2-a127-3599fd7f2b18",
   "metadata": {},
   "outputs": [
    {
     "data": {
      "text/plain": [
       "<Axes: xlabel='forehead_width_cm', ylabel='Density'>"
      ]
     },
     "execution_count": 38,
     "metadata": {},
     "output_type": "execute_result"
    },
    {
     "data": {
      "image/png": "[encoded data removed]",
      "text/plain": [
       "<Figure size 640x480 with 1 Axes>"
      ]
     },
     "metadata": {},
     "output_type": "display_data"
    }
   ],
   "source": [
    "sns.kdeplot(data=df['forehead_width_cm'], color='red', linewidth=2)"
   ]
  },
  {
   "cell_type": "code",
   "execution_count": 39,
   "id": "bcc56ac5-eae9-4539-be0a-e2b452fec360",
   "metadata": {},
   "outputs": [
    {
     "data": {
      "image/png": "[encoded data removed]",
      "text/plain": [
       "<Figure size 640x480 with 1 Axes>"
      ]
     },
     "metadata": {},
     "output_type": "display_data"
    }
   ],
   "source": [
    "plt.hist(df.loc[df['forehead_width_cm'] < 15, 'forehead_width_cm'], 100)\n",
    "plt.xlabel('Интервал выборки')\n",
    "plt.ylabel('оличество элементов')\n",
    "plt.title('Частотный график выборки y')\n",
    "plt.grid(True)\n",
    "plt.show()"
   ]
  },
  {
   "cell_type": "code",
   "execution_count": 40,
   "id": "f7117e3e-ca43-4af8-bee9-3c5bd79e854b",
   "metadata": {},
   "outputs": [
    {
     "data": {
      "text/plain": [
       "<Axes: xlabel='forehead_width_cm', ylabel='Density'>"
      ]
     },
     "execution_count": 40,
     "metadata": {},
     "output_type": "execute_result"
    },
    {
     "data": {
      "image/png": "[encoded data removed]",
      "text/plain": [
       "<Figure size 640x480 with 1 Axes>"
      ]
     },
     "metadata": {},
     "output_type": "display_data"
    }
   ],
   "source": [
    "sns.kdeplot(data=df.loc[df['forehead_width_cm'] < 15, 'forehead_width_cm'], color='red', linewidth=2)"
   ]
  },
  {
   "cell_type": "markdown",
   "id": "02f1f314-0188-4349-8b24-452f0b27cf32",
   "metadata": {},
   "source": [
    "## Коэффициент островершинности, коэффициент эксцесса и коэффициент асимметрии\n",
    "\n",
    "На практике для анализа распределения переменной и подбора преобразований, максимизирующих\n",
    "нормальность, пользуются коэффициентом островершинности, или куртосисом (`kurtosis`), коэффициентом\n",
    "эксцесса (`excess kurtosis`), коэффициентом асимметрии (`skewness`), строят гистограмму распределения, графики квантиль–квантиль и ящичковую диаграмму."
   ]
  },
  {
   "cell_type": "markdown",
   "id": "56eea76f-d01c-4e3c-8f5d-aba0b88d40b6",
   "metadata": {},
   "source": [
    "### Коэффициент островершинности (куртосис)\n",
    "\n",
    "**Коэффициент островершинности, или куртосис (kurtosis)**, – это мера остроты пика в распределении случайной величины. Он характеризует распределение, в котором значения величины либо сосредоточены близко к среднему значению, либо, наоборот, распределены далеко от него.\n",
    "\n",
    "Для стандартного нормального распределения коэффициент островершинности равен 3. На практике используют эту же формулу, но с вычитанием 3, чтобы коэффициент был равен 0.\n",
    "\n",
    "<img width=\"550\" height=\"150\" src='https://drive.google.com/uc?id=1tyi-i6xc7rCLslN4MZfth3IJ5CSufKIT' />\n",
    "\n",
    "И такой коэффициент называют уже коэффициентом эксцесса (excess kurtosis). Прилагательное excess здесь буквально означает «выходящий за рамки нормы». Это дает удобство интерпретации. Если коэффициент эксцесса положителен (коэффициент островершинности > 3), то распределение будет иметь острую вершину, мы имеем дело с островершинным распределением. Если коэффициент эксцесса отрицателен (коэффициент островершинности < 3), то распределение будет иметь пологую вершину, мы имеем дело с плосковершинным распределением. Если коэффициент эксцесса равен нулю (коэффициент островершинности равен 3), наше распределение является нормальным.\n",
    "\n",
    "<img width=\"650\" height=\"250\" src='https://drive.google.com/uc?id=1HGSgBJzdOseF1DqxwSMRn1bQSQ3alAJ2' />\n",
    "\n",
    "Ниже приведен график распределений с разным значением эксцесса.\n",
    "<img  src='https://drive.google.com/uc?id=1Oet8x3Bynhrx_P2vIndDoD4RnT5SWDTS' />"
   ]
  },
  {
   "cell_type": "code",
   "execution_count": 43,
   "id": "e8e85cd8-49c2-4d75-bc73-867820de299c",
   "metadata": {
    "tags": []
   },
   "outputs": [
    {
     "name": "stdout",
     "output_type": "stream",
     "text": [
      "Ширина лба: -0.930865697789264\n",
      "Высота лба: -0.8492405071581102\n",
      "Пол: -1.9999998400639738\n"
     ]
    }
   ],
   "source": [
    "print('Ширина лба:', sts.kurtosis(df['forehead_width_cm'], axis=0, fisher=True, bias=True))\n",
    "print('Высота лба:', sts.kurtosis(df['forehead_height_cm'], axis=0, fisher=True, bias=True))\n",
    "print('Пол:', sts.kurtosis(df['gender_num'], axis=0, fisher=True, bias=True))"
   ]
  },
  {
   "cell_type": "markdown",
   "id": "c20b76e4-2b8e-4398-8efb-b6db19112755",
   "metadata": {},
   "source": [
    "При работе с параметрами forehead_width_cm и forehead_height_cm имеем дело с плосковершинным распределением, так как коэффициент эксцесса отрицателен"
   ]
  },
  {
   "cell_type": "markdown",
   "id": "43dab036-d885-4234-b1f7-3c4447442f75",
   "metadata": {},
   "source": [
    "### Коэффициент асимметрии\n",
    "**Коэффициент асимметрии, или скоса (skewness)**, – мера асимметрии распределения случайной величины. Он вычисляется по формуле:\n",
    "\n",
    "<img width=\"450\" height=\"150\" src='https://drive.google.com/uc?id=1zo5Yxw4lerZQnV8-orihRu2jT5VwQ8Kz' />\n",
    "\n",
    " Если асимметрия близка к 0 (например, между -0,5 и 0,5), то набор данных считается относительно симметричным.\n",
    "\n",
    "- Если у вас будет преобладание чисел меньше среднего,\n",
    "вы получите отрицательный коэффициент асимметрии.\n",
    "- Если у вас будет преобладание чисел больше среднего, вы получите положительный коэффициент асимметрии.\n",
    "- Если у вас симметрия, числа взаимно скомпенсируют друг друга. Для стандартного нормального распределения коэффициент асимметрии равен нулю.\n",
    "\n",
    "Если коэффициент асимметрии положителен, то распределение будет скошено вправо, если отрицателен, распределение будет скошено влево. При левосторонней асимметрии мода больше медианы, а медиана больше, чем среднее значение. При правосторонней асимметрии среднее значение больше\n",
    "медианы, а медиана больше моды. Для нормального распределения мода, медиана и среднее значение одинаковы.\n",
    "\n",
    "Рассчитаем асимметрию с помощью `scipy.stats.skew()`:"
   ]
  },
  {
   "cell_type": "code",
   "execution_count": 43,
   "id": "406b4d78-0ab2-4b83-a338-8b70987580ae",
   "metadata": {
    "tags": []
   },
   "outputs": [
    {
     "name": "stdout",
     "output_type": "stream",
     "text": [
      "Ширина лба: 0.24216884127602942\n",
      "Высота лба: 0.2506634571052811\n",
      "Пол: 0.00039992002399174707\n"
     ]
    }
   ],
   "source": [
    "print('Ширина лба:', sts.skew(df['forehead_width_cm'], axis=0, bias=True))\n",
    "print('Высота лба:', sts.skew(df['forehead_height_cm'], axis=0, bias=True))\n",
    "print('Пол:', sts.skew(df['gender_num'], axis=0, bias=True))"
   ]
  },
  {
   "cell_type": "markdown",
   "id": "94a9f9e1-1af2-4198-b8b4-6147ac35e1c9",
   "metadata": {},
   "source": [
    "Данный набор данный считается относительно симметричным, так как ассимметрия близка к 0"
   ]
  },
  {
   "cell_type": "code",
   "execution_count": 47,
   "id": "08d67bdd-6ebd-46a9-a308-fd5735009d8c",
   "metadata": {},
   "outputs": [
    {
     "name": "stdout",
     "output_type": "stream",
     "text": [
      "Ширина лба (мат. ожидание): 13.181483703259348\n",
      "Ширина лба (медиана): aver: 13.1 low: 13.1 high: 13.1\n",
      "Ширина лба (мода): 12.0\n"
     ]
    }
   ],
   "source": [
    "print('Ширина лба (мат. ожидание):', st.mean(df['forehead_width_cm']))\n",
    "print('Ширина лба (медиана):', 'aver:', st.median(df['forehead_width_cm']), 'low:', st.median_low(df['forehead_width_cm']), 'high:', st.median_high(df['forehead_width_cm']))\n",
    "print('Ширина лба (мода):', st.mode(df['forehead_width_cm']))"
   ]
  },
  {
   "cell_type": "code",
   "execution_count": 45,
   "id": "985aa1eb-1481-4283-a853-5021b3c19e73",
   "metadata": {},
   "outputs": [
    {
     "name": "stdout",
     "output_type": "stream",
     "text": [
      "Высота лба (мат. ожидание): 5.946310737852429\n",
      "Высота лба (медиана): aver: 5.9 low: 5.9 high: 13.1\n",
      "Высота лба (мода): 5.7\n"
     ]
    }
   ],
   "source": [
    "print('Высота лба (мат. ожидание):', st.mean(df['forehead_height_cm']))\n",
    "print('Высота лба (медиана):', 'aver:', st.median(df['forehead_height_cm']), 'low:', st.median_low(df['forehead_height_cm']), 'high:', st.median_high(df['forehead_width_cm']))\n",
    "print('Высота лба (мода):', st.mode(df['forehead_height_cm']))"
   ]
  },
  {
   "cell_type": "markdown",
   "id": "e7ba4e1f-8b89-443a-9ff4-cc88f57011e5",
   "metadata": {},
   "source": [
    "Для нормально распределенных данных асимметрия должна быть около нуля.\n",
    "По данным ассиметрии и эксцесса можно сказать, что показатели \"ширина лба (forehead_width_cm)\" и \"высота лба (forehead_height_cm)\" относительно подчиняется нормальному закону распределения. Эксцесс близок к нормальному распределению, небольшая плосковершинность"
   ]
  },
  {
   "cell_type": "code",
   "execution_count": null,
   "id": "564cb77f-3cb3-4cb3-93cf-bbeda679fe98",
   "metadata": {},
   "outputs": [],
   "source": []
  }
 ],
 "metadata": {
  "kernelspec": {
   "display_name": "Python 3 (ipykernel)",
   "language": "python",
   "name": "python3"
  },
  "language_info": {
   "codemirror_mode": {
    "name": "ipython",
    "version": 3
   },
   "file_extension": ".py",
   "mimetype": "text/x-python",
   "name": "python",
   "nbconvert_exporter": "python",
   "pygments_lexer": "ipython3",
   "version": "3.10.9"
  }
 },
 "nbformat": 4,
 "nbformat_minor": 5
}
