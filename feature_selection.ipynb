{
 "cells": [
  {
   "cell_type": "markdown",
   "id": "e7e909ef-c1c7-4604-95c5-63ddd9a9e5e8",
   "metadata": {},
   "source": [
    "## Отбор признаков"
   ]
  },
  {
   "cell_type": "code",
   "execution_count": 24,
   "id": "609e31a0-c913-4e99-804d-39b286ca2ee9",
   "metadata": {},
   "outputs": [],
   "source": [
    "import pandas as pd\n",
    "import numpy as np\n",
    "import matplotlib.pyplot as plt\n",
    "import seaborn as sns\n",
    "from sklearn.feature_selection import mutual_info_classif\n",
    "from sklearn.feature_selection import SelectKBest\n",
    "from sklearn.feature_selection import chi2\n",
    "from sklearn.feature_selection import SelectFromModel\n",
    "from sklearn.feature_selection import RFE\n",
    "from sklearn.linear_model import LogisticRegression\n",
    "from sklearn.linear_model import Ridge\n",
    "from sklearn.model_selection import GridSearchCV\n",
    "from sklearn.model_selection import (train_test_split,\n",
    "                                     cross_val_score,\n",
    "                                     cross_validate)\n",
    "from sklearn.metrics import roc_auc_score\n",
    "from lightgbm import LGBMClassifier\n",
    "from catboost import CatBoostClassifier, Pool\n",
    "from lightgbm import LGBMClassifier\n",
    "from xgboost import XGBClassifier"
   ]
  },
  {
   "cell_type": "code",
   "execution_count": 50,
   "id": "bfe26630-7f02-40c7-9100-c36ff9a23c36",
   "metadata": {},
   "outputs": [],
   "source": [
    "df = pd.read_csv('datasets/gender_classification.csv')\n",
    "df['gender_num'] = (df['gender'] == 'Male').astype(int)\n",
    "df = df.drop(columns=['gender'])"
   ]
  },
  {
   "cell_type": "markdown",
   "id": "f017839d-46c1-493b-b49f-0f8618922fb9",
   "metadata": {},
   "source": [
    "Создадим две переменные , Х содержит признаки (первые 6 столбцов), у содержит целевую переменную (7-й столбец)"
   ]
  },
  {
   "cell_type": "code",
   "execution_count": 26,
   "id": "6e6e9889-37ee-45ac-a300-275ff16563ed",
   "metadata": {},
   "outputs": [
    {
     "data": {
      "text/plain": [
       "(      long_hair  forehead_width_cm  forehead_height_cm  nose_wide  nose_long  \\\n",
       " 0             1               11.8                 6.1          1          0   \n",
       " 1             0               14.0                 5.4          0          0   \n",
       " 2             0               11.8                 6.3          1          1   \n",
       " 3             0               14.4                 6.1          0          1   \n",
       " 4             1               13.5                 5.9          0          0   \n",
       " ...         ...                ...                 ...        ...        ...   \n",
       " 4996          1               13.6                 5.1          0          0   \n",
       " 4997          1               11.9                 5.4          0          0   \n",
       " 4998          1               12.9                 5.7          0          0   \n",
       " 4999          1               13.2                 6.2          0          0   \n",
       " 5000          1               15.4                 5.4          1          1   \n",
       " \n",
       "       lips_thin  distance_nose_to_lip_long  \n",
       " 0             1                          1  \n",
       " 1             1                          0  \n",
       " 2             1                          1  \n",
       " 3             1                          1  \n",
       " 4             0                          0  \n",
       " ...         ...                        ...  \n",
       " 4996          0                          0  \n",
       " 4997          0                          0  \n",
       " 4998          0                          0  \n",
       " 4999          0                          0  \n",
       " 5000          1                          1  \n",
       " \n",
       " [5001 rows x 7 columns],\n",
       " 0       1\n",
       " 1       0\n",
       " 2       1\n",
       " 3       1\n",
       " 4       0\n",
       "        ..\n",
       " 4996    0\n",
       " 4997    0\n",
       " 4998    0\n",
       " 4999    0\n",
       " 5000    1\n",
       " Name: gender_num, Length: 5001, dtype: int64)"
      ]
     },
     "execution_count": 26,
     "metadata": {},
     "output_type": "execute_result"
    }
   ],
   "source": [
    "X=df.iloc[:,:7]\n",
    "y=df.iloc[:,7]\n",
    "X,y"
   ]
  },
  {
   "cell_type": "markdown",
   "id": "b508a599-e08b-4536-9a31-14ba163b8723",
   "metadata": {},
   "source": [
    "gender_num - данные, которые говорят о распределении пола на мужской и женский"
   ]
  },
  {
   "cell_type": "code",
   "execution_count": 27,
   "id": "748cf612-ebff-4678-a80b-958a385c3238",
   "metadata": {},
   "outputs": [
    {
     "data": {
      "image/png": "[encoded data removed]",
      "text/plain": [
       "<Figure size 640x480 with 1 Axes>"
      ]
     },
     "metadata": {},
     "output_type": "display_data"
    },
    {
     "data": {
      "text/plain": [
       "distance_nose_to_lip_long    0.326271\n",
       "nose_wide                    0.320015\n",
       "lips_thin                    0.309123\n",
       "nose_long                    0.307981\n",
       "forehead_width_cm            0.133237\n",
       "forehead_height_cm           0.104888\n",
       "long_hair                    0.013874\n",
       "dtype: float64"
      ]
     },
     "execution_count": 27,
     "metadata": {},
     "output_type": "execute_result"
    }
   ],
   "source": [
    "importances = mutual_info_classif(X, y)\n",
    "feature_importances = pd.Series(importances,X.columns)\n",
    "feature_importances.plot(kind='barh', color='teal')\n",
    "plt.show()\n",
    "feature_importances.sort_values(ascending=False)"
   ]
  },
  {
   "cell_type": "code",
   "execution_count": 28,
   "id": "3582648e-2837-497b-a911-dcb602673c11",
   "metadata": {},
   "outputs": [
    {
     "data": {
      "image/png": "[encoded data removed]",
      "text/plain": [
       "<Figure size 800x800 with 2 Axes>"
      ]
     },
     "metadata": {},
     "output_type": "display_data"
    }
   ],
   "source": [
    "sns.heatmap(df.corr(numeric_only=True),annot=True,cmap='RdYlGn',linewidths=0.2)\n",
    "fig=plt.gcf()\n",
    "fig.set_size_inches(8,8)\n",
    "plt.show()"
   ]
  },
  {
   "cell_type": "markdown",
   "id": "ec870385-4e1d-4a07-87b5-f4f8b0bcc007",
   "metadata": {},
   "source": [
    "## Хи-квадрат\n",
    "\n",
    "Отбор признаков на основе статистики хи-квадрат. Этот метод измеряет зависимость между категориальной зависимой переменной(у) и категориальными признаками (Х). Если X и у независимы, то взаимная информация будет равна нулю. По данным можно увидеть, что самыми взаимосвязанными переменными для gender_num(пол) явялется: nose_wide (ширина носа) и (distance_nose_to_lip_long - расстояние от носа до губ)"
   ]
  },
  {
   "cell_type": "code",
   "execution_count": 29,
   "id": "b7822660-bc03-4870-a989-038133dc822b",
   "metadata": {},
   "outputs": [
    {
     "name": "stdout",
     "output_type": "stream",
     "text": [
      "                       Specs        Score\n",
      "3                  nose_wide  1456.149498\n",
      "6  distance_nose_to_lip_long  1427.916730\n",
      "5                  lips_thin  1400.647504\n",
      "4                  nose_long  1362.791251\n",
      "1          forehead_width_cm    51.906258\n",
      "2         forehead_height_cm    18.927938\n",
      "0                  long_hair     0.075583\n"
     ]
    },
    {
     "data": {
      "image/png": "[encoded data removed]",
      "text/plain": [
       "<Figure size 640x480 with 1 Axes>"
      ]
     },
     "metadata": {},
     "output_type": "display_data"
    }
   ],
   "source": [
    "bestfeatures = SelectKBest(score_func=chi2, k='all')\n",
    "fit = bestfeatures.fit(X,y)\n",
    "dfscores = pd.DataFrame(fit.scores_)\n",
    "dfcolumns = pd.DataFrame(X.columns)\n",
    "\n",
    "#объединим два фрейма данных для лучшей визуализации\n",
    "featureScores = pd.concat([dfcolumns,dfscores],axis=1)\n",
    "featureScores.columns = ['Specs','Score']  #название показателей\n",
    "print(featureScores.nlargest(11,'Score'))\n",
    "\n",
    "feature_importances = pd.Series(featureScores['Score'])\n",
    "feature_importances.plot(kind='barh', color='teal')\n",
    "plt.show()"
   ]
  },
  {
   "cell_type": "markdown",
   "id": "73d8870c-e9c0-457b-8dbd-42833350f0d5",
   "metadata": {},
   "source": [
    "## Методы обертки"
   ]
  },
  {
   "cell_type": "code",
   "execution_count": 30,
   "id": "779db5ce-caca-467a-b330-66ec762022ed",
   "metadata": {},
   "outputs": [
    {
     "name": "stdout",
     "output_type": "stream",
     "text": [
      "Index(['long_hair', 'forehead_width_cm', 'forehead_height_cm', 'nose_wide',\n",
      "       'nose_long', 'lips_thin', 'distance_nose_to_lip_long'],\n",
      "      dtype='object')\n",
      "(3500, 7) (3500,)\n"
     ]
    }
   ],
   "source": [
    "# разбиваем набор данных на обучающую и тестовую выборки\n",
    "X_train, X_test, y_train, y_test = train_test_split(df.drop('gender_num', axis=1), df['gender_num'], test_size=0.3,random_state=42)\n",
    "\n",
    "# создаем список признаков\n",
    "col_list = X_train.select_dtypes(include=['number']).columns\n",
    "print(col_list)\n",
    "print(X_train.shape, y_train.shape)"
   ]
  },
  {
   "cell_type": "code",
   "execution_count": 31,
   "id": "9464f26d-9762-45e6-a779-1bdb1c0e9a5c",
   "metadata": {},
   "outputs": [
    {
     "name": "stdout",
     "output_type": "stream",
     "text": [
      "0    0.993363\n",
      "1    0.993771\n",
      "2    0.993192\n",
      "3    0.995106\n",
      "4    0.993869\n",
      "dtype: float64\n"
     ]
    }
   ],
   "source": [
    "# вычисляем AUC для модели с одним признаком,\n",
    "# используя перекрестную проверку\n",
    "log = LogisticRegression(solver='liblinear')\n",
    "auc=cross_val_score(log, X_train, y_train, cv=5, scoring='roc_auc')\n",
    "\n",
    "# превращаем список со значениями AUC в серию\n",
    "auc_values = pd.Series(auc)\n",
    "print(auc_values)"
   ]
  },
  {
   "cell_type": "code",
   "execution_count": 32,
   "id": "28174efa-5771-4df9-b72d-52514fcb531d",
   "metadata": {},
   "outputs": [
    {
     "data": {
      "text/plain": [
       "3    0.995106\n",
       "4    0.993869\n",
       "1    0.993771\n",
       "0    0.993363\n",
       "2    0.993192\n",
       "dtype: float64"
      ]
     },
     "execution_count": 32,
     "metadata": {},
     "output_type": "execute_result"
    }
   ],
   "source": [
    "# сортируем по убыванию\n",
    "auc_values = auc_values.sort_values(ascending=False)\n",
    "auc_values"
   ]
  },
  {
   "cell_type": "code",
   "execution_count": 33,
   "id": "881293de-da2f-4174-b3f0-5203d230bb51",
   "metadata": {},
   "outputs": [
    {
     "data": {
      "text/html": [
       "<div>\n",
       "<style scoped>\n",
       "    .dataframe tbody tr th:only-of-type {\n",
       "        vertical-align: middle;\n",
       "    }\n",
       "\n",
       "    .dataframe tbody tr th {\n",
       "        vertical-align: top;\n",
       "    }\n",
       "\n",
       "    .dataframe thead th {\n",
       "        text-align: right;\n",
       "    }\n",
       "</style>\n",
       "<table border=\"1\" class=\"dataframe\">\n",
       "  <thead>\n",
       "    <tr style=\"text-align: right;\">\n",
       "      <th></th>\n",
       "      <th>nose_wide</th>\n",
       "      <th>nose_long</th>\n",
       "      <th>forehead_width_cm</th>\n",
       "      <th>long_hair</th>\n",
       "      <th>forehead_height_cm</th>\n",
       "    </tr>\n",
       "  </thead>\n",
       "  <tbody>\n",
       "    <tr>\n",
       "      <th>0</th>\n",
       "      <td>1</td>\n",
       "      <td>0</td>\n",
       "      <td>11.8</td>\n",
       "      <td>1</td>\n",
       "      <td>6.1</td>\n",
       "    </tr>\n",
       "    <tr>\n",
       "      <th>1</th>\n",
       "      <td>0</td>\n",
       "      <td>0</td>\n",
       "      <td>14.0</td>\n",
       "      <td>0</td>\n",
       "      <td>5.4</td>\n",
       "    </tr>\n",
       "    <tr>\n",
       "      <th>2</th>\n",
       "      <td>1</td>\n",
       "      <td>1</td>\n",
       "      <td>11.8</td>\n",
       "      <td>0</td>\n",
       "      <td>6.3</td>\n",
       "    </tr>\n",
       "    <tr>\n",
       "      <th>3</th>\n",
       "      <td>0</td>\n",
       "      <td>1</td>\n",
       "      <td>14.4</td>\n",
       "      <td>0</td>\n",
       "      <td>6.1</td>\n",
       "    </tr>\n",
       "    <tr>\n",
       "      <th>4</th>\n",
       "      <td>0</td>\n",
       "      <td>0</td>\n",
       "      <td>13.5</td>\n",
       "      <td>1</td>\n",
       "      <td>5.9</td>\n",
       "    </tr>\n",
       "    <tr>\n",
       "      <th>...</th>\n",
       "      <td>...</td>\n",
       "      <td>...</td>\n",
       "      <td>...</td>\n",
       "      <td>...</td>\n",
       "      <td>...</td>\n",
       "    </tr>\n",
       "    <tr>\n",
       "      <th>4996</th>\n",
       "      <td>0</td>\n",
       "      <td>0</td>\n",
       "      <td>13.6</td>\n",
       "      <td>1</td>\n",
       "      <td>5.1</td>\n",
       "    </tr>\n",
       "    <tr>\n",
       "      <th>4997</th>\n",
       "      <td>0</td>\n",
       "      <td>0</td>\n",
       "      <td>11.9</td>\n",
       "      <td>1</td>\n",
       "      <td>5.4</td>\n",
       "    </tr>\n",
       "    <tr>\n",
       "      <th>4998</th>\n",
       "      <td>0</td>\n",
       "      <td>0</td>\n",
       "      <td>12.9</td>\n",
       "      <td>1</td>\n",
       "      <td>5.7</td>\n",
       "    </tr>\n",
       "    <tr>\n",
       "      <th>4999</th>\n",
       "      <td>0</td>\n",
       "      <td>0</td>\n",
       "      <td>13.2</td>\n",
       "      <td>1</td>\n",
       "      <td>6.2</td>\n",
       "    </tr>\n",
       "    <tr>\n",
       "      <th>5000</th>\n",
       "      <td>1</td>\n",
       "      <td>1</td>\n",
       "      <td>15.4</td>\n",
       "      <td>1</td>\n",
       "      <td>5.4</td>\n",
       "    </tr>\n",
       "  </tbody>\n",
       "</table>\n",
       "<p>5001 rows × 5 columns</p>\n",
       "</div>"
      ],
      "text/plain": [
       "      nose_wide  nose_long  forehead_width_cm  long_hair  forehead_height_cm\n",
       "0             1          0               11.8          1                 6.1\n",
       "1             0          0               14.0          0                 5.4\n",
       "2             1          1               11.8          0                 6.3\n",
       "3             0          1               14.4          0                 6.1\n",
       "4             0          0               13.5          1                 5.9\n",
       "...         ...        ...                ...        ...                 ...\n",
       "4996          0          0               13.6          1                 5.1\n",
       "4997          0          0               11.9          1                 5.4\n",
       "4998          0          0               12.9          1                 5.7\n",
       "4999          0          0               13.2          1                 6.2\n",
       "5000          1          1               15.4          1                 5.4\n",
       "\n",
       "[5001 rows x 5 columns]"
      ]
     },
     "execution_count": 33,
     "metadata": {},
     "output_type": "execute_result"
    }
   ],
   "source": [
    "# формитруем датасет только из информативных показателей\n",
    "x_1=X.iloc[:,auc_values.index]#3\n",
    "x_1"
   ]
  },
  {
   "cell_type": "markdown",
   "id": "eaab9955-303a-4551-97a9-0fb9771e22af",
   "metadata": {},
   "source": [
    "## Рекурсивное исключение признаков\n",
    "\n",
    "Это метод рекурсивного исключения признаков (RFE) логистической регрессией для выбора наиболее значимых признаков."
   ]
  },
  {
   "cell_type": "code",
   "execution_count": 34,
   "id": "7d28fd7d-3e42-4cfd-8a29-8268f6e023cd",
   "metadata": {},
   "outputs": [
    {
     "name": "stdout",
     "output_type": "stream",
     "text": [
      "Index(['forehead_height_cm', 'nose_wide', 'nose_long', 'lips_thin',\n",
      "       'distance_nose_to_lip_long'],\n",
      "      dtype='object')\n"
     ]
    }
   ],
   "source": [
    "threshold = 5 # the number of most relevant features\n",
    "\n",
    "lr = LogisticRegression(class_weight = 'balanced', solver = 'lbfgs', random_state=42, n_jobs=-1, max_iter=1000)\n",
    "\n",
    "rfe = RFE(lr, n_features_to_select=5)\n",
    "rfe=rfe.fit(X, y)\n",
    "# X_train, y_train - входные и выходные данные с обучающей выборки соответственно.\n",
    "selector_ind = rfe.get_support()\n",
    "df_rfe = X.iloc[:, selector_ind]\n",
    "print(df_rfe.columns)"
   ]
  },
  {
   "cell_type": "markdown",
   "id": "ccac1133-4cf7-4448-8445-7c9f4465b214",
   "metadata": {},
   "source": [
    "Этот подход позволяет оценить, какие признаки вносят наибольший вклад в модель на основе выбранных метрик качества."
   ]
  },
  {
   "cell_type": "code",
   "execution_count": 35,
   "id": "9904442e-d7d9-4aab-835d-5498f263e1be",
   "metadata": {},
   "outputs": [
    {
     "data": {
      "text/html": [
       "<div>\n",
       "<style scoped>\n",
       "    .dataframe tbody tr th:only-of-type {\n",
       "        vertical-align: middle;\n",
       "    }\n",
       "\n",
       "    .dataframe tbody tr th {\n",
       "        vertical-align: top;\n",
       "    }\n",
       "\n",
       "    .dataframe thead th {\n",
       "        text-align: right;\n",
       "    }\n",
       "</style>\n",
       "<table border=\"1\" class=\"dataframe\">\n",
       "  <thead>\n",
       "    <tr style=\"text-align: right;\">\n",
       "      <th></th>\n",
       "      <th>importance 0</th>\n",
       "      <th>importance 1</th>\n",
       "      <th>importance 2</th>\n",
       "      <th>importance 3</th>\n",
       "      <th>importance 4</th>\n",
       "      <th>mean_importance</th>\n",
       "    </tr>\n",
       "  </thead>\n",
       "  <tbody>\n",
       "    <tr>\n",
       "      <th>long_hair</th>\n",
       "      <td>0.000000</td>\n",
       "      <td>0.000000</td>\n",
       "      <td>0.000000</td>\n",
       "      <td>0.000000</td>\n",
       "      <td>0.000000</td>\n",
       "      <td>0.000000</td>\n",
       "    </tr>\n",
       "    <tr>\n",
       "      <th>forehead_width_cm</th>\n",
       "      <td>4049.483256</td>\n",
       "      <td>3056.854515</td>\n",
       "      <td>1765.777798</td>\n",
       "      <td>1658.032561</td>\n",
       "      <td>3150.856105</td>\n",
       "      <td>2736.200847</td>\n",
       "    </tr>\n",
       "    <tr>\n",
       "      <th>forehead_height_cm</th>\n",
       "      <td>1735.333922</td>\n",
       "      <td>1662.507959</td>\n",
       "      <td>1248.362817</td>\n",
       "      <td>1041.275487</td>\n",
       "      <td>1591.035279</td>\n",
       "      <td>1455.703093</td>\n",
       "    </tr>\n",
       "    <tr>\n",
       "      <th>nose_wide</th>\n",
       "      <td>31858.229099</td>\n",
       "      <td>26306.765334</td>\n",
       "      <td>23938.736908</td>\n",
       "      <td>18549.785301</td>\n",
       "      <td>47295.977016</td>\n",
       "      <td>29589.898732</td>\n",
       "    </tr>\n",
       "    <tr>\n",
       "      <th>nose_long</th>\n",
       "      <td>22865.340586</td>\n",
       "      <td>33115.664646</td>\n",
       "      <td>49863.045372</td>\n",
       "      <td>38423.252571</td>\n",
       "      <td>17384.516485</td>\n",
       "      <td>32330.363932</td>\n",
       "    </tr>\n",
       "    <tr>\n",
       "      <th>lips_thin</th>\n",
       "      <td>18888.572769</td>\n",
       "      <td>31308.363762</td>\n",
       "      <td>19981.057444</td>\n",
       "      <td>25509.834205</td>\n",
       "      <td>21248.521761</td>\n",
       "      <td>23387.269988</td>\n",
       "    </tr>\n",
       "    <tr>\n",
       "      <th>distance_nose_to_lip_long</th>\n",
       "      <td>72894.551389</td>\n",
       "      <td>56307.368113</td>\n",
       "      <td>54504.316649</td>\n",
       "      <td>66412.093527</td>\n",
       "      <td>60954.085170</td>\n",
       "      <td>62214.482970</td>\n",
       "    </tr>\n",
       "  </tbody>\n",
       "</table>\n",
       "</div>"
      ],
      "text/plain": [
       "                           importance 0  importance 1  importance 2  \\\n",
       "long_hair                      0.000000      0.000000      0.000000   \n",
       "forehead_width_cm           4049.483256   3056.854515   1765.777798   \n",
       "forehead_height_cm          1735.333922   1662.507959   1248.362817   \n",
       "nose_wide                  31858.229099  26306.765334  23938.736908   \n",
       "nose_long                  22865.340586  33115.664646  49863.045372   \n",
       "lips_thin                  18888.572769  31308.363762  19981.057444   \n",
       "distance_nose_to_lip_long  72894.551389  56307.368113  54504.316649   \n",
       "\n",
       "                           importance 3  importance 4  mean_importance  \n",
       "long_hair                      0.000000      0.000000         0.000000  \n",
       "forehead_width_cm           1658.032561   3150.856105      2736.200847  \n",
       "forehead_height_cm          1041.275487   1591.035279      1455.703093  \n",
       "nose_wide                  18549.785301  47295.977016     29589.898732  \n",
       "nose_long                  38423.252571  17384.516485     32330.363932  \n",
       "lips_thin                  25509.834205  21248.521761     23387.269988  \n",
       "distance_nose_to_lip_long  66412.093527  60954.085170     62214.482970  "
      ]
     },
     "execution_count": 35,
     "metadata": {},
     "output_type": "execute_result"
    }
   ],
   "source": [
    "# Теперь вычислим важности признаков на основе информационного выигрыша.\n",
    "# создаем экземляр класса LGBMClassifier\n",
    "model_all_features = LGBMClassifier(\n",
    "    random_state=42, learning_rate=0.01,\n",
    "    n_estimators=300, bagging_fraction=0.5,\n",
    "    feature_fraction=1, lambda_l1=10,\n",
    "    importance_type='gain')\n",
    "params={'verbose': -1}\n",
    "model_all_features.set_params(**params)\n",
    "\n",
    "# выполняем перекрестную проверку и сохраняем результат\n",
    "# с помощью функции cross_validate()\n",
    "output = cross_validate(\n",
    "    model_all_features, X_train, y_train, cv=5,\n",
    "    scoring='roc_auc', return_estimator=True)\n",
    "\n",
    "# создаем список fi, в который будем сохранять\n",
    "# важности признаков, и сохраняем в него важности,\n",
    "# рассчитанные для каждой из моделей\n",
    "fi = []\n",
    "for estimator in output['estimator']:\n",
    "    fi.append(estimator.feature_importances_)\n",
    "\n",
    "# преобразовываем список в датафрейм, индексы в котором\n",
    "# будут именами наших переменных\n",
    "fi = pd.DataFrame(\n",
    "    np.array(fi).T,\n",
    "    columns=['importance ' + str(idx)\n",
    "             for idx in range(len(fi))],\n",
    "    index=X_train.columns)\n",
    "# вычисляем усредненные важности и добавляем столбец с ними\n",
    "fi['mean_importance'] = fi.mean(axis=1)\n",
    "# смотрим полученный датафрейм\n",
    "fi"
   ]
  },
  {
   "cell_type": "markdown",
   "id": "247423a1-9eb6-4bb9-a29e-b781252bd138",
   "metadata": {},
   "source": [
    "## Регуляризация LASSO (L1).\n",
    "Регуляризация состоит в добавлении штрафа (penalty) к различным параметрам модели во избежание чрезмерной подгонки. При регуляризации линейной модели штраф применяется к коэффициентам, умножающим каждый из предикторов. Lasso-регуляризация обладает свойством, позволяющим уменьшить некоторые коэффициенты до нуля. Следовательно, такие “фичи” можно будет просто удалить из модели.\n",
    "\n",
    "![img](https://drive.google.com/uc?id=1pAFQRa8I_-twxgh_2qbkrjJHoezkrY7i)"
   ]
  },
  {
   "cell_type": "code",
   "execution_count": 36,
   "id": "fa713922-f7fa-400b-ac2e-df215fb40a9b",
   "metadata": {},
   "outputs": [
    {
     "name": "stdout",
     "output_type": "stream",
     "text": [
      "Index(['long_hair', 'forehead_width_cm', 'forehead_height_cm', 'nose_wide',\n",
      "       'nose_long', 'lips_thin', 'distance_nose_to_lip_long'],\n",
      "      dtype='object')\n"
     ]
    },
    {
     "name": "stderr",
     "output_type": "stream",
     "text": [
      "/Library/Frameworks/Python.framework/Versions/3.10/lib/python3.10/site-packages/sklearn/base.py:458: UserWarning: X has feature names, but SelectFromModel was fitted without feature names\n",
      "  warnings.warn(\n"
     ]
    },
    {
     "data": {
      "text/plain": [
       "array([[ 1. , 11.8,  6.1, ...,  0. ,  1. ,  1. ],\n",
       "       [ 0. , 14. ,  5.4, ...,  0. ,  1. ,  0. ],\n",
       "       [ 0. , 11.8,  6.3, ...,  1. ,  1. ,  1. ],\n",
       "       ...,\n",
       "       [ 1. , 12.9,  5.7, ...,  0. ,  0. ,  0. ],\n",
       "       [ 1. , 13.2,  6.2, ...,  0. ,  0. ,  0. ],\n",
       "       [ 1. , 15.4,  5.4, ...,  1. ,  1. ,  1. ]])"
      ]
     },
     "execution_count": 36,
     "metadata": {},
     "output_type": "execute_result"
    }
   ],
   "source": [
    "# Устанавливаем наш параметр регуляризации C=1\n",
    "logistic = LogisticRegression(C=1, penalty=\"l1\", solver='liblinear', random_state=7).fit(X, y)\n",
    "# Где X, y - входные и выходные данные соответственно.\n",
    "model = SelectFromModel(logistic, prefit=True)\n",
    "\n",
    "X_new = model.transform(X)\n",
    "\n",
    "# выводим финальную оценку прогнозирования.\n",
    "selector_ind = model.get_support()\n",
    "df_rfe1 = X.iloc[:, selector_ind]\n",
    "print(df_rfe1.columns)\n",
    "X_new"
   ]
  },
  {
   "cell_type": "markdown",
   "id": "bb2dae76-bf95-4332-8b8b-5e14c5b6ddb3",
   "metadata": {},
   "source": [
    "## Регуляризация Тихонова (L2).\n",
    "\n",
    "Суть в том, что чересчур тяжёлые весовые коэффициенты «отталкивают» нашу линию наилучшего соответствия, построенную на основе минимизации квадрата ошибок, от основной тендеции.\n",
    "\n",
    "![img](https://drive.google.com/uc?id=1_B9TGeTVXUK5F8iPnF1JJL-x1GSw7BXZ)"
   ]
  },
  {
   "cell_type": "code",
   "execution_count": 37,
   "id": "d219a0f9-0e25-4c87-b45f-0e6e4b35f221",
   "metadata": {},
   "outputs": [
    {
     "data": {
      "text/plain": [
       "array([ 0.51088991,  0.03729032, -0.65075201,  0.0930311 ,  0.93380887])"
      ]
     },
     "execution_count": 37,
     "metadata": {},
     "output_type": "execute_result"
    }
   ],
   "source": [
    "n_samples, n_features = 10, 5\n",
    "rng = np.random.RandomState(0)\n",
    "y = rng.randn(n_samples)\n",
    "X = rng.randn(n_samples, n_features)\n",
    "clf = Ridge(alpha=1.0)\n",
    "clf.fit(X, y)\n",
    "clf.coef_"
   ]
  },
  {
   "cell_type": "markdown",
   "id": "cd376c27-dba2-44f1-8780-813290f55a5d",
   "metadata": {},
   "source": [
    "**Как видно из конечных наборов функций, мы получаем разные результаты для разных подходов, поэтому нет определенной истины в выборе функций.**\n",
    "\n",
    "Методы фильтрации часто являются одномерными и учитывают признаки независимо или с учетом зависимой переменной. Однако это не всегда правильное предположение. Иногда функция сама по себе не имеет смысла, в то время как она может улучшить модель с помощью комбинаций других функций. Таким образом, подобные ситуации упускаются из виду в методах фильтрации. Кроме того, оценка статистических измерений для выбора признаков не способствует производительности модели, поэтому может не повысить точность модели. С другой стороны, эти подходы просты и выгодны по сравнению с другими в отношении времени обучения.\n",
    "\n",
    "Методы-оболочки используют итеративные процедуры поиска и используются вместе с моделью. В отличие от методов фильтрации, он учитывает комбинации объектов и возвращает подмножество объектов. Это может быть реализовано жадным или нежадным способом. Жадные подходы, такие как RFE, могут столкнуться с такими проблемами, как попадание в ловушку локальных оптимумов. Как правило, они работают медленнее, чем методы фильтрации, поскольку требуют больших объемов вычислений с учетом итеративного подхода.\n",
    "\n",
    "Встроенные методы работают быстрее, чем методы-оболочки, поскольку процесс выбора встроен в процесс подгонки модели. Они также обеспечивают прямую связь между выбором функций и производительностью модели. Таким образом, вы можете получить более удовлетворительные результаты с помощью встроенных методов. Одним из недостатков этого подхода является то, что он зависит от модели. Данные могут лучше соответствовать модели, которая неудобна для встроенных видов выбора функций."
   ]
  },
  {
   "cell_type": "markdown",
   "id": "0862475e-4d7e-4fd7-8ff3-860167d099cd",
   "metadata": {},
   "source": [
    "## Комбинирование нескольких методов для отбора признаков"
   ]
  },
  {
   "cell_type": "code",
   "execution_count": 38,
   "id": "b504f133-318f-4976-aa72-983273d2dc99",
   "metadata": {},
   "outputs": [
    {
     "name": "stdout",
     "output_type": "stream",
     "text": [
      "Наилучшие значения гиперпараметров: {'learning_rate': 0.05}\n",
      "Наилучшее значение AUC: 0.997\n"
     ]
    }
   ],
   "source": [
    "# разбиваем набор данных на обучающую и тестовую выборки\n",
    "X_train, X_test, y_train, y_test = train_test_split(df.drop('gender_num', axis=1), df['gender_num'], test_size=0.3,random_state=42)\n",
    "\n",
    "# Сначала ищем оптимальный темп обучения для зафиксированного количества деревьев\n",
    "\n",
    "# создаем экземляр класса LGBMClassifier\n",
    "lgbm_model = LGBMClassifier(random_state=42,n_estimators=300)\n",
    "params={'verbose': -1}\n",
    "lgbm_model.set_params(**params)\n",
    "\n",
    "# задаем сетку гиперпараметров\n",
    "param_grid = {\n",
    "              'learning_rate': [0.01, 0.05, 0.1]\n",
    "              }\n",
    "# создаем экземпляр класса GridSearchCV, передав\n",
    "# конвейер, сетку гиперпараметров и указав\n",
    "# количество блоков перекрестной проверки\n",
    "gs = GridSearchCV(lgbm_model,param_grid, scoring='roc_auc', cv=5)\n",
    "\n",
    "# выполняем поиск по всем значениям сетки\n",
    "gs.fit(X_train, y_train);\n",
    "\n",
    "# смотрим наилучшие значения гиперпараметров\n",
    "print(\"Наилучшие значения гиперпараметров: {}\".format( gs.best_params_))\n",
    "# смотрим наилучшее значение AUC\n",
    "print(\"Наилучшее значение AUC: {:.3f}\".format(gs.best_score_))"
   ]
  },
  {
   "cell_type": "code",
   "execution_count": 39,
   "id": "685a1187-588b-4d8e-bf79-f14965c9d0c5",
   "metadata": {},
   "outputs": [
    {
     "name": "stdout",
     "output_type": "stream",
     "text": [
      "Наилучшие значения гиперпараметров: {'bagging_fraction': 0.5, 'feature_fraction': 0.5, 'lambda_l1': 0}\n",
      "Наилучшее значение AUC: 0.997\n"
     ]
    }
   ],
   "source": [
    "# Теперь ищем с помощью обычного поиска по сетке оптимальные значения гиперпараметров\n",
    "# Гиперпараметр lambda_l1 - задает штрафной коэффициент перед L1-нормой вектора весов листьев (по умолчанию 0).\n",
    "# Гиперпараметр bagging_ fraction - задает случайный отбор наблюдений без возвращения.\n",
    "# Он может принимать значения от 0 до 1\n",
    "# Гиперпараметр feature_fraction - задает случайный отбор признаков для каждого дерева.\n",
    "# Он может принимать значения от 0 до 1\n",
    "\n",
    "# создаем экземляр класса LGBMClassifier\n",
    "lgbm_model2 = LGBMClassifier(random_state=42,\n",
    "                             n_estimators=300,\n",
    "                             learning_rate=0.01)\n",
    "params={'verbose': -1}\n",
    "lgbm_model2.set_params(**params)\n",
    "\n",
    "# задаем сетку гиперпараметров\n",
    "param_grid2 = {\n",
    "    'lambda_l1': [0, 10],\n",
    "    'bagging_fraction': [0.5, 1],\n",
    "    'feature_fraction': [0.5, 1]\n",
    "}\n",
    "\n",
    "# создаем экземпляр класса GridSearchCV, передав\n",
    "# конвейер, сетку гиперпараметров и указав\n",
    "# количество блоков перекрестной проверки\n",
    "gs2 = GridSearchCV(lgbm_model2,\n",
    "                   param_grid2,\n",
    "                   scoring='roc_auc',\n",
    "                   cv=5)\n",
    "\n",
    "# выполняем поиск по всем значениям сетки\n",
    "gs2.fit(X_train, y_train)\n",
    "\n",
    "# смотрим наилучшие значения гиперпараметров\n",
    "print('Наилучшие значения гиперпараметров: {}'.format(gs2.best_params_))\n",
    "# смотрим наилучшее значение AUC\n",
    "print('Наилучшее значение AUC: {:.3f}'.format(gs2.best_score_))"
   ]
  },
  {
   "cell_type": "code",
   "execution_count": 40,
   "id": "a2e651b5-ba90-423a-9465-3be9437f6c5c",
   "metadata": {},
   "outputs": [
    {
     "data": {
      "text/html": [
       "<div>\n",
       "<style scoped>\n",
       "    .dataframe tbody tr th:only-of-type {\n",
       "        vertical-align: middle;\n",
       "    }\n",
       "\n",
       "    .dataframe tbody tr th {\n",
       "        vertical-align: top;\n",
       "    }\n",
       "\n",
       "    .dataframe thead th {\n",
       "        text-align: right;\n",
       "    }\n",
       "</style>\n",
       "<table border=\"1\" class=\"dataframe\">\n",
       "  <thead>\n",
       "    <tr style=\"text-align: right;\">\n",
       "      <th></th>\n",
       "      <th>importance 0</th>\n",
       "      <th>importance 1</th>\n",
       "      <th>importance 2</th>\n",
       "      <th>importance 3</th>\n",
       "      <th>importance 4</th>\n",
       "      <th>mean_importance</th>\n",
       "    </tr>\n",
       "  </thead>\n",
       "  <tbody>\n",
       "    <tr>\n",
       "      <th>long_hair</th>\n",
       "      <td>0.000000</td>\n",
       "      <td>0.000000</td>\n",
       "      <td>0.000000</td>\n",
       "      <td>0.000000</td>\n",
       "      <td>0.000000</td>\n",
       "      <td>0.000000</td>\n",
       "    </tr>\n",
       "    <tr>\n",
       "      <th>forehead_width_cm</th>\n",
       "      <td>4049.483256</td>\n",
       "      <td>3056.854515</td>\n",
       "      <td>1765.777798</td>\n",
       "      <td>1658.032561</td>\n",
       "      <td>3150.856105</td>\n",
       "      <td>2736.200847</td>\n",
       "    </tr>\n",
       "    <tr>\n",
       "      <th>forehead_height_cm</th>\n",
       "      <td>1735.333922</td>\n",
       "      <td>1662.507959</td>\n",
       "      <td>1248.362817</td>\n",
       "      <td>1041.275487</td>\n",
       "      <td>1591.035279</td>\n",
       "      <td>1455.703093</td>\n",
       "    </tr>\n",
       "    <tr>\n",
       "      <th>nose_wide</th>\n",
       "      <td>31858.229099</td>\n",
       "      <td>26306.765334</td>\n",
       "      <td>23938.736908</td>\n",
       "      <td>18549.785301</td>\n",
       "      <td>47295.977016</td>\n",
       "      <td>29589.898732</td>\n",
       "    </tr>\n",
       "    <tr>\n",
       "      <th>nose_long</th>\n",
       "      <td>22865.340586</td>\n",
       "      <td>33115.664646</td>\n",
       "      <td>49863.045372</td>\n",
       "      <td>38423.252571</td>\n",
       "      <td>17384.516485</td>\n",
       "      <td>32330.363932</td>\n",
       "    </tr>\n",
       "    <tr>\n",
       "      <th>lips_thin</th>\n",
       "      <td>18888.572769</td>\n",
       "      <td>31308.363762</td>\n",
       "      <td>19981.057444</td>\n",
       "      <td>25509.834205</td>\n",
       "      <td>21248.521761</td>\n",
       "      <td>23387.269988</td>\n",
       "    </tr>\n",
       "    <tr>\n",
       "      <th>distance_nose_to_lip_long</th>\n",
       "      <td>72894.551389</td>\n",
       "      <td>56307.368113</td>\n",
       "      <td>54504.316649</td>\n",
       "      <td>66412.093527</td>\n",
       "      <td>60954.085170</td>\n",
       "      <td>62214.482970</td>\n",
       "    </tr>\n",
       "  </tbody>\n",
       "</table>\n",
       "</div>"
      ],
      "text/plain": [
       "                           importance 0  importance 1  importance 2  \\\n",
       "long_hair                      0.000000      0.000000      0.000000   \n",
       "forehead_width_cm           4049.483256   3056.854515   1765.777798   \n",
       "forehead_height_cm          1735.333922   1662.507959   1248.362817   \n",
       "nose_wide                  31858.229099  26306.765334  23938.736908   \n",
       "nose_long                  22865.340586  33115.664646  49863.045372   \n",
       "lips_thin                  18888.572769  31308.363762  19981.057444   \n",
       "distance_nose_to_lip_long  72894.551389  56307.368113  54504.316649   \n",
       "\n",
       "                           importance 3  importance 4  mean_importance  \n",
       "long_hair                      0.000000      0.000000         0.000000  \n",
       "forehead_width_cm           1658.032561   3150.856105      2736.200847  \n",
       "forehead_height_cm          1041.275487   1591.035279      1455.703093  \n",
       "nose_wide                  18549.785301  47295.977016     29589.898732  \n",
       "nose_long                  38423.252571  17384.516485     32330.363932  \n",
       "lips_thin                  25509.834205  21248.521761     23387.269988  \n",
       "distance_nose_to_lip_long  66412.093527  60954.085170     62214.482970  "
      ]
     },
     "execution_count": 40,
     "metadata": {},
     "output_type": "execute_result"
    }
   ],
   "source": [
    "# Теперь вычислим важности признаков на основе информационного выигрыша.\n",
    "# создаем экземляр класса LGBMClassifier\n",
    "model_all_features = LGBMClassifier(\n",
    "    random_state=42, learning_rate=0.01,\n",
    "    n_estimators=300, bagging_fraction=0.5,\n",
    "    feature_fraction=1, lambda_l1=10,\n",
    "    importance_type='gain')\n",
    "params={'verbose': -1}\n",
    "model_all_features.set_params(**params)\n",
    "\n",
    "# выполняем перекрестную проверку и сохраняем результат\n",
    "# с помощью функции cross_validate()\n",
    "output = cross_validate(\n",
    "    model_all_features, X_train, y_train, cv=5,\n",
    "    scoring='roc_auc', return_estimator=True)\n",
    "\n",
    "# создаем список fi, в который будем сохранять\n",
    "# важности признаков, и сохраняем в него важности,\n",
    "# рассчитанные для каждой из моделей\n",
    "fi = []\n",
    "for estimator in output['estimator']:\n",
    "    fi.append(estimator.feature_importances_)\n",
    "\n",
    "# преобразовываем список в датафрейм, индексы в котором\n",
    "# будут именами наших переменных\n",
    "fi = pd.DataFrame(\n",
    "    np.array(fi).T,\n",
    "    columns=['importance ' + str(idx)\n",
    "             for idx in range(len(fi))],\n",
    "    index=X_train.columns)\n",
    "# вычисляем усредненные важности и добавляем столбец с ними\n",
    "fi['mean_importance'] = fi.mean(axis=1)\n",
    "# смотрим полученный датафрейм\n",
    "fi"
   ]
  },
  {
   "cell_type": "markdown",
   "id": "fd39373b-5532-462a-8161-005b44903739",
   "metadata": {},
   "source": [
    "Здесь мы видим, что некоторые признаки имеют нулевые или высокие важности."
   ]
  },
  {
   "cell_type": "code",
   "execution_count": 41,
   "id": "0fda1018-4c36-4aeb-8429-16d94689abbb",
   "metadata": {},
   "outputs": [
    {
     "data": {
      "text/plain": [
       "long_hair                        0.000000\n",
       "forehead_height_cm            1455.703093\n",
       "forehead_width_cm             2736.200847\n",
       "lips_thin                    23387.269988\n",
       "nose_wide                    29589.898732\n",
       "nose_long                    32330.363932\n",
       "distance_nose_to_lip_long    62214.482970\n",
       "Name: mean_importance, dtype: float64"
      ]
     },
     "execution_count": 41,
     "metadata": {},
     "output_type": "execute_result"
    }
   ],
   "source": [
    "# записываем серию, в которой индексные метки - признаки,\n",
    "# значения - важности\n",
    "features = fi['mean_importance']\n",
    "# сортируем индексные метки по возрастанию важностей\n",
    "features = features.sort_values(ascending=True)\n",
    "features"
   ]
  },
  {
   "cell_type": "code",
   "execution_count": 42,
   "id": "63bfbff0-9c9f-4338-9ef9-b926b9f6d1d6",
   "metadata": {},
   "outputs": [
    {
     "data": {
      "image/png": "[encoded data removed]",
      "text/plain": [
       "<Figure size 500x1000 with 1 Axes>"
      ]
     },
     "metadata": {},
     "output_type": "display_data"
    }
   ],
   "source": [
    "# выводим график усредненных важностей\n",
    "features.plot.barh(figsize=(5, 10));"
   ]
  },
  {
   "cell_type": "code",
   "execution_count": 43,
   "id": "a45e52e4-0a3b-488c-bca5-aba49b692901",
   "metadata": {},
   "outputs": [
    {
     "data": {
      "text/plain": [
       "['long_hair',\n",
       " 'forehead_height_cm',\n",
       " 'forehead_width_cm',\n",
       " 'lips_thin',\n",
       " 'nose_wide',\n",
       " 'nose_long',\n",
       " 'distance_nose_to_lip_long']"
      ]
     },
     "execution_count": 43,
     "metadata": {},
     "output_type": "execute_result"
    }
   ],
   "source": [
    "# создаем список признаков\n",
    "features = list(features.index)\n",
    "features"
   ]
  },
  {
   "cell_type": "code",
   "execution_count": 44,
   "id": "5e760e7d-c47e-4dbb-9ced-05186457293d",
   "metadata": {},
   "outputs": [
    {
     "data": {
      "text/plain": [
       "0.9963141167422643"
      ]
     },
     "execution_count": 44,
     "metadata": {},
     "output_type": "execute_result"
    }
   ],
   "source": [
    "# вычисляем оценку AUC-ROC, усредненную по 5 проверочным\n",
    "# блокам перекрестной проверки (5 моделям со всеми\n",
    "# признаками)\n",
    "auc_score_all = output['test_score'].mean()\n",
    "auc_score_all"
   ]
  },
  {
   "cell_type": "code",
   "execution_count": 48,
   "id": "63973310-c5a7-4e90-9211-87e04acb41eb",
   "metadata": {},
   "outputs": [
    {
     "name": "stdout",
     "output_type": "stream",
     "text": [
      "выполнение последовательного удаления признаков\n",
      "\n",
      "проверяемый признак:  long_hair  признак  1  из  7\n",
      "AUC модели после удаления=0.9963141167422643\n",
      "AUC модели со всеми признаками=0.9963141167422643\n",
      "Разница AUC=0.0\n",
      "удаляем:  long_hair\n",
      "\n",
      "проверяемый признак:  forehead_height_cm  признак  2  из  7\n",
      "AUC модели после удаления=0.9955197908290334\n",
      "AUC модели со всеми признаками=0.9963141167422643\n",
      "Разница AUC=0.0007943259132309199\n",
      "сохраняем:  forehead_height_cm\n",
      "\n",
      "проверяемый признак:  forehead_width_cm  признак  3  из  7\n",
      "AUC модели после удаления=0.9946871082789637\n",
      "AUC модели со всеми признаками=0.9963141167422643\n",
      "Разница AUC=0.001627008463300661\n",
      "сохраняем:  forehead_width_cm\n",
      "\n",
      "проверяемый признак:  lips_thin  признак  4  из  7\n",
      "AUC модели после удаления=0.9921710651697209\n",
      "AUC модели со всеми признаками=0.9963141167422643\n",
      "Разница AUC=0.004143051572543466\n",
      "сохраняем:  lips_thin\n",
      "\n",
      "проверяемый признак:  nose_wide  признак  5  из  7\n",
      "AUC модели после удаления=0.990628937344112\n",
      "AUC модели со всеми признаками=0.9963141167422643\n",
      "Разница AUC=0.005685179398152385\n",
      "сохраняем:  nose_wide\n",
      "\n",
      "проверяемый признак:  nose_long  признак  6  из  7\n",
      "AUC модели после удаления=0.9915505953270962\n",
      "AUC модели со всеми признаками=0.9963141167422643\n",
      "Разница AUC=0.004763521415168115\n",
      "сохраняем:  nose_long\n",
      "\n",
      "проверяемый признак:  distance_nose_to_lip_long  признак  7  из  7\n",
      "AUC модели после удаления=0.9910485295530573\n",
      "AUC модели со всеми признаками=0.9963141167422643\n",
      "Разница AUC=0.005265587189206999\n",
      "сохраняем:  distance_nose_to_lip_long\n",
      "общее количество признаков для удаления:  1\n",
      "общее количество признаков для сохранения:  6\n"
     ]
    }
   ],
   "source": [
    "# задаем пороговое значение разницы AUC\n",
    "tol = 0.0001\n",
    "\n",
    "print(\"выполнение последовательного удаления признаков\")\n",
    "\n",
    "# создаем список, в который будем\n",
    "# записывать удаляемые признаки\n",
    "features_to_remove = []\n",
    "# создаем список, в который будем\n",
    "# записывать значение AUC\n",
    "auc_score_mean_list = []\n",
    "# создаем список, в который будем\n",
    "# записывать разницу AUC\n",
    "diff_auc_list = []\n",
    "\n",
    "# задаем счетчик для оценки прогресса\n",
    "count = 1\n",
    "\n",
    "# итерируем по всем признакам, признаки упорядочены по\n",
    "# возрастанию важности на основе информационного выигрыша\n",
    "for feature in features:\n",
    "    print()\n",
    "    print(\"проверяемый признак: \", feature, \" признак \", count,\n",
    "          \" из \", len(features))\n",
    "    count = count + 1\n",
    "\n",
    "    # создаем экземляр класса LGBMClassifier\n",
    "    model = LGBMClassifier(\n",
    "        random_state=42, learning_rate=0.01,\n",
    "        n_estimators=300, bagging_fraction=0.5,\n",
    "        feature_fraction=1, lambda_l1=10)\n",
    "\n",
    "    params={'verbose': -1}\n",
    "    model.set_params(**params)\n",
    "\n",
    "    # обучаем модели со всеми признаками минус уже удаленные признаки\n",
    "    # (берем их из списка удаляемых признаков) и оцениваемый признак\n",
    "    auc_scores = cross_val_score(\n",
    "        model,\n",
    "        X_train.drop(features_to_remove + [feature], axis=1),\n",
    "        y_train,\n",
    "        scoring='roc_auc',\n",
    "        cv=5)\n",
    " # вычисляем AUC, усредненный по проверочным блокам\n",
    "    # перекрестной проверки\n",
    "    auc_score_mean = auc_scores.mean()\n",
    "\n",
    "    # печатаем усредненное значение AUC\n",
    "    print(\"AUC модели после удаления={}\".format((auc_score_mean)))\n",
    "\n",
    "    # добавляем усредненное значение AUC в список\n",
    "    auc_score_mean_list.append(auc_score_mean)\n",
    "\n",
    "    # печатаем AUC модели со всеми признаками\n",
    "    # (опорное значение AUC)\n",
    "    print(\"AUC модели со всеми признаками={}\".format((auc_score_all)))\n",
    "\n",
    "    # определяем разницу AUC (если отрицательное значение\n",
    "    # - удаление признака улучшило AUC)\n",
    "    diff_auc = auc_score_all - auc_score_mean\n",
    "\n",
    "    # записываем разницу AUC в список\n",
    "    diff_auc_list.append(diff_auc)\n",
    "\n",
    "    # сравниваем разницу AUC с порогом, заданным заранее\n",
    "    # если разница AUC больше или равна порогу, сохраняем\n",
    "    if diff_auc >= tol:\n",
    "        print(\"Разница AUC={}\".format(diff_auc))\n",
    "        print(\"сохраняем: \", feature)\n",
    "        print\n",
    "\n",
    "    # если разница AUC меньше порога, удаляем\n",
    "    else:\n",
    "        print(\"Разница AUC={}\".format(diff_auc))\n",
    "        print(\"удаляем: \", feature)\n",
    "        print\n",
    "\n",
    "        # если разница AUC меньше порога и мы удаляем признак,\n",
    "        # мы в качестве нового опорного значения AUC задаем\n",
    "        # значение AUC для модели с оставшимися признаками\n",
    "        auc_score_all = auc_score_mean\n",
    " # добавляем удаляемый признак в список\n",
    "        features_to_remove.append(feature)\n",
    "\n",
    "# формируем датафрейм\n",
    "df2 = pd.DataFrame({'feature': features,\n",
    "                   'auc_score_mean': auc_score_mean_list,\n",
    "                   'diff_auc_score': diff_auc_list})\n",
    "\n",
    "# цикл завершен, вычисляем количество\n",
    "# удаленных признаков\n",
    "print(\"общее количество признаков для удаления: \",\n",
    "      len(features_to_remove))\n",
    "\n",
    "# определяем признаки, которые мы хотим сохранить (не удаляем)\n",
    "features_to_keep = [x for x in features\n",
    "                    if x not in features_to_remove]\n",
    "print(\"общее количество признаков для сохранения: \",\n",
    "      len(features_to_keep))"
   ]
  },
  {
   "cell_type": "code",
   "execution_count": 49,
   "id": "a08c1a5c-6b2c-4d3e-a0c6-cdf236971c1e",
   "metadata": {},
   "outputs": [
    {
     "data": {
      "text/html": [
       "<div>\n",
       "<style scoped>\n",
       "    .dataframe tbody tr th:only-of-type {\n",
       "        vertical-align: middle;\n",
       "    }\n",
       "\n",
       "    .dataframe tbody tr th {\n",
       "        vertical-align: top;\n",
       "    }\n",
       "\n",
       "    .dataframe thead th {\n",
       "        text-align: right;\n",
       "    }\n",
       "</style>\n",
       "<table border=\"1\" class=\"dataframe\">\n",
       "  <thead>\n",
       "    <tr style=\"text-align: right;\">\n",
       "      <th></th>\n",
       "      <th>feature</th>\n",
       "      <th>auc_score_mean</th>\n",
       "      <th>diff_auc_score</th>\n",
       "    </tr>\n",
       "  </thead>\n",
       "  <tbody>\n",
       "    <tr>\n",
       "      <th>0</th>\n",
       "      <td>long_hair</td>\n",
       "      <td>0.996314</td>\n",
       "      <td>0.000000</td>\n",
       "    </tr>\n",
       "    <tr>\n",
       "      <th>1</th>\n",
       "      <td>forehead_height_cm</td>\n",
       "      <td>0.995520</td>\n",
       "      <td>0.000794</td>\n",
       "    </tr>\n",
       "    <tr>\n",
       "      <th>2</th>\n",
       "      <td>forehead_width_cm</td>\n",
       "      <td>0.994687</td>\n",
       "      <td>0.001627</td>\n",
       "    </tr>\n",
       "    <tr>\n",
       "      <th>3</th>\n",
       "      <td>lips_thin</td>\n",
       "      <td>0.992171</td>\n",
       "      <td>0.004143</td>\n",
       "    </tr>\n",
       "    <tr>\n",
       "      <th>4</th>\n",
       "      <td>nose_wide</td>\n",
       "      <td>0.990629</td>\n",
       "      <td>0.005685</td>\n",
       "    </tr>\n",
       "    <tr>\n",
       "      <th>5</th>\n",
       "      <td>nose_long</td>\n",
       "      <td>0.991551</td>\n",
       "      <td>0.004764</td>\n",
       "    </tr>\n",
       "    <tr>\n",
       "      <th>6</th>\n",
       "      <td>distance_nose_to_lip_long</td>\n",
       "      <td>0.991049</td>\n",
       "      <td>0.005266</td>\n",
       "    </tr>\n",
       "  </tbody>\n",
       "</table>\n",
       "</div>"
      ],
      "text/plain": [
       "                     feature  auc_score_mean  diff_auc_score\n",
       "0                  long_hair        0.996314        0.000000\n",
       "1         forehead_height_cm        0.995520        0.000794\n",
       "2          forehead_width_cm        0.994687        0.001627\n",
       "3                  lips_thin        0.992171        0.004143\n",
       "4                  nose_wide        0.990629        0.005685\n",
       "5                  nose_long        0.991551        0.004764\n",
       "6  distance_nose_to_lip_long        0.991049        0.005266"
      ]
     },
     "execution_count": 49,
     "metadata": {},
     "output_type": "execute_result"
    }
   ],
   "source": [
    "df2"
   ]
  },
  {
   "cell_type": "code",
   "execution_count": 52,
   "id": "b202a08b-b10c-4b94-8952-46889c6f29de",
   "metadata": {},
   "outputs": [
    {
     "data": {
      "text/html": [
       "<div>\n",
       "<style scoped>\n",
       "    .dataframe tbody tr th:only-of-type {\n",
       "        vertical-align: middle;\n",
       "    }\n",
       "\n",
       "    .dataframe tbody tr th {\n",
       "        vertical-align: top;\n",
       "    }\n",
       "\n",
       "    .dataframe thead th {\n",
       "        text-align: right;\n",
       "    }\n",
       "</style>\n",
       "<table border=\"1\" class=\"dataframe\">\n",
       "  <thead>\n",
       "    <tr style=\"text-align: right;\">\n",
       "      <th></th>\n",
       "      <th>forehead_height_cm</th>\n",
       "      <th>forehead_width_cm</th>\n",
       "      <th>lips_thin</th>\n",
       "      <th>nose_wide</th>\n",
       "      <th>nose_long</th>\n",
       "      <th>distance_nose_to_lip_long</th>\n",
       "    </tr>\n",
       "  </thead>\n",
       "  <tbody>\n",
       "    <tr>\n",
       "      <th>0</th>\n",
       "      <td>6.1</td>\n",
       "      <td>11.8</td>\n",
       "      <td>1.0</td>\n",
       "      <td>1.0</td>\n",
       "      <td>0.0</td>\n",
       "      <td>1.0</td>\n",
       "    </tr>\n",
       "    <tr>\n",
       "      <th>1</th>\n",
       "      <td>5.4</td>\n",
       "      <td>14.0</td>\n",
       "      <td>1.0</td>\n",
       "      <td>0.0</td>\n",
       "      <td>0.0</td>\n",
       "      <td>0.0</td>\n",
       "    </tr>\n",
       "    <tr>\n",
       "      <th>2</th>\n",
       "      <td>6.3</td>\n",
       "      <td>11.8</td>\n",
       "      <td>1.0</td>\n",
       "      <td>1.0</td>\n",
       "      <td>1.0</td>\n",
       "      <td>1.0</td>\n",
       "    </tr>\n",
       "    <tr>\n",
       "      <th>3</th>\n",
       "      <td>6.1</td>\n",
       "      <td>14.4</td>\n",
       "      <td>1.0</td>\n",
       "      <td>0.0</td>\n",
       "      <td>1.0</td>\n",
       "      <td>1.0</td>\n",
       "    </tr>\n",
       "    <tr>\n",
       "      <th>4</th>\n",
       "      <td>5.9</td>\n",
       "      <td>13.5</td>\n",
       "      <td>0.0</td>\n",
       "      <td>0.0</td>\n",
       "      <td>0.0</td>\n",
       "      <td>0.0</td>\n",
       "    </tr>\n",
       "    <tr>\n",
       "      <th>...</th>\n",
       "      <td>...</td>\n",
       "      <td>...</td>\n",
       "      <td>...</td>\n",
       "      <td>...</td>\n",
       "      <td>...</td>\n",
       "      <td>...</td>\n",
       "    </tr>\n",
       "    <tr>\n",
       "      <th>4996</th>\n",
       "      <td>5.1</td>\n",
       "      <td>13.6</td>\n",
       "      <td>0.0</td>\n",
       "      <td>0.0</td>\n",
       "      <td>0.0</td>\n",
       "      <td>0.0</td>\n",
       "    </tr>\n",
       "    <tr>\n",
       "      <th>4997</th>\n",
       "      <td>5.4</td>\n",
       "      <td>11.9</td>\n",
       "      <td>0.0</td>\n",
       "      <td>0.0</td>\n",
       "      <td>0.0</td>\n",
       "      <td>0.0</td>\n",
       "    </tr>\n",
       "    <tr>\n",
       "      <th>4998</th>\n",
       "      <td>5.7</td>\n",
       "      <td>12.9</td>\n",
       "      <td>0.0</td>\n",
       "      <td>0.0</td>\n",
       "      <td>0.0</td>\n",
       "      <td>0.0</td>\n",
       "    </tr>\n",
       "    <tr>\n",
       "      <th>4999</th>\n",
       "      <td>6.2</td>\n",
       "      <td>13.2</td>\n",
       "      <td>0.0</td>\n",
       "      <td>0.0</td>\n",
       "      <td>0.0</td>\n",
       "      <td>0.0</td>\n",
       "    </tr>\n",
       "    <tr>\n",
       "      <th>5000</th>\n",
       "      <td>5.4</td>\n",
       "      <td>15.4</td>\n",
       "      <td>1.0</td>\n",
       "      <td>1.0</td>\n",
       "      <td>1.0</td>\n",
       "      <td>1.0</td>\n",
       "    </tr>\n",
       "  </tbody>\n",
       "</table>\n",
       "<p>5001 rows × 6 columns</p>\n",
       "</div>"
      ],
      "text/plain": [
       "      forehead_height_cm  forehead_width_cm  lips_thin  nose_wide  nose_long  \\\n",
       "0                    6.1               11.8        1.0        1.0        0.0   \n",
       "1                    5.4               14.0        1.0        0.0        0.0   \n",
       "2                    6.3               11.8        1.0        1.0        1.0   \n",
       "3                    6.1               14.4        1.0        0.0        1.0   \n",
       "4                    5.9               13.5        0.0        0.0        0.0   \n",
       "...                  ...                ...        ...        ...        ...   \n",
       "4996                 5.1               13.6        0.0        0.0        0.0   \n",
       "4997                 5.4               11.9        0.0        0.0        0.0   \n",
       "4998                 5.7               12.9        0.0        0.0        0.0   \n",
       "4999                 6.2               13.2        0.0        0.0        0.0   \n",
       "5000                 5.4               15.4        1.0        1.0        1.0   \n",
       "\n",
       "      distance_nose_to_lip_long  \n",
       "0                           1.0  \n",
       "1                           0.0  \n",
       "2                           1.0  \n",
       "3                           1.0  \n",
       "4                           0.0  \n",
       "...                         ...  \n",
       "4996                        0.0  \n",
       "4997                        0.0  \n",
       "4998                        0.0  \n",
       "4999                        0.0  \n",
       "5000                        1.0  \n",
       "\n",
       "[5001 rows x 6 columns]"
      ]
     },
     "execution_count": 52,
     "metadata": {},
     "output_type": "execute_result"
    }
   ],
   "source": [
    "dgg_new = []\n",
    "for col in features_to_keep:\n",
    "    dgg_new.append(df[col])\n",
    "dff1 = pd.DataFrame(dgg_new).T\n",
    "dff1.to_csv(path_or_buf='datasets/gender_classification_1.csv',index=False)\n",
    "dff1"
   ]
  }
 ],
 "metadata": {
  "kernelspec": {
   "display_name": "Python 3 (ipykernel)",
   "language": "python",
   "name": "python3"
  },
  "language_info": {
   "codemirror_mode": {
    "name": "ipython",
    "version": 3
   },
   "file_extension": ".py",
   "mimetype": "text/x-python",
   "name": "python",
   "nbconvert_exporter": "python",
   "pygments_lexer": "ipython3",
   "version": "3.10.9"
  }
 },
 "nbformat": 4,
 "nbformat_minor": 5
}
